{
 "cells": [
  {
   "cell_type": "code",
   "execution_count": 1,
   "id": "41c1ebc3",
   "metadata": {},
   "outputs": [],
   "source": [
    "# Import libraries\n",
    "import numpy as np\n",
    "import matplotlib.pyplot as plt\n",
    "import pandas as pd\n",
    "import seaborn as sns\n",
    "import warnings\n",
    "warnings.filterwarnings(\"ignore\")"
   ]
  },
  {
   "cell_type": "code",
   "execution_count": 2,
   "id": "1404a941",
   "metadata": {},
   "outputs": [],
   "source": [
    "# Loading dataset\n",
    "data=pd.read_csv(\"dataframe_.csv\")"
   ]
  },
  {
   "cell_type": "markdown",
   "id": "110d0906",
   "metadata": {},
   "source": [
    "# Basic checks"
   ]
  },
  {
   "cell_type": "code",
   "execution_count": 3,
   "id": "9dff79c8",
   "metadata": {},
   "outputs": [
    {
     "data": {
      "text/html": [
       "<div>\n",
       "<style scoped>\n",
       "    .dataframe tbody tr th:only-of-type {\n",
       "        vertical-align: middle;\n",
       "    }\n",
       "\n",
       "    .dataframe tbody tr th {\n",
       "        vertical-align: top;\n",
       "    }\n",
       "\n",
       "    .dataframe thead th {\n",
       "        text-align: right;\n",
       "    }\n",
       "</style>\n",
       "<table border=\"1\" class=\"dataframe\">\n",
       "  <thead>\n",
       "    <tr style=\"text-align: right;\">\n",
       "      <th></th>\n",
       "      <th>input</th>\n",
       "      <th>output</th>\n",
       "    </tr>\n",
       "  </thead>\n",
       "  <tbody>\n",
       "    <tr>\n",
       "      <th>0</th>\n",
       "      <td>-122.740667</td>\n",
       "      <td>-130.572085</td>\n",
       "    </tr>\n",
       "    <tr>\n",
       "      <th>1</th>\n",
       "      <td>-121.531419</td>\n",
       "      <td>-129.938929</td>\n",
       "    </tr>\n",
       "    <tr>\n",
       "      <th>2</th>\n",
       "      <td>-134.917019</td>\n",
       "      <td>-130.141832</td>\n",
       "    </tr>\n",
       "    <tr>\n",
       "      <th>3</th>\n",
       "      <td>-120.605951</td>\n",
       "      <td>-125.760932</td>\n",
       "    </tr>\n",
       "    <tr>\n",
       "      <th>4</th>\n",
       "      <td>-129.894781</td>\n",
       "      <td>-112.785214</td>\n",
       "    </tr>\n",
       "  </tbody>\n",
       "</table>\n",
       "</div>"
      ],
      "text/plain": [
       "        input      output\n",
       "0 -122.740667 -130.572085\n",
       "1 -121.531419 -129.938929\n",
       "2 -134.917019 -130.141832\n",
       "3 -120.605951 -125.760932\n",
       "4 -129.894781 -112.785214"
      ]
     },
     "execution_count": 3,
     "metadata": {},
     "output_type": "execute_result"
    }
   ],
   "source": [
    "# first five rows\n",
    "data.head()"
   ]
  },
  {
   "cell_type": "code",
   "execution_count": 4,
   "id": "60a43fec",
   "metadata": {},
   "outputs": [
    {
     "data": {
      "text/html": [
       "<div>\n",
       "<style scoped>\n",
       "    .dataframe tbody tr th:only-of-type {\n",
       "        vertical-align: middle;\n",
       "    }\n",
       "\n",
       "    .dataframe tbody tr th {\n",
       "        vertical-align: top;\n",
       "    }\n",
       "\n",
       "    .dataframe thead th {\n",
       "        text-align: right;\n",
       "    }\n",
       "</style>\n",
       "<table border=\"1\" class=\"dataframe\">\n",
       "  <thead>\n",
       "    <tr style=\"text-align: right;\">\n",
       "      <th></th>\n",
       "      <th>input</th>\n",
       "      <th>output</th>\n",
       "    </tr>\n",
       "  </thead>\n",
       "  <tbody>\n",
       "    <tr>\n",
       "      <th>1692</th>\n",
       "      <td>25.410184</td>\n",
       "      <td>-76.380902</td>\n",
       "    </tr>\n",
       "    <tr>\n",
       "      <th>1693</th>\n",
       "      <td>29.537304</td>\n",
       "      <td>-82.796934</td>\n",
       "    </tr>\n",
       "    <tr>\n",
       "      <th>1694</th>\n",
       "      <td>31.633331</td>\n",
       "      <td>-87.000000</td>\n",
       "    </tr>\n",
       "    <tr>\n",
       "      <th>1695</th>\n",
       "      <td>29.091458</td>\n",
       "      <td>-104.943052</td>\n",
       "    </tr>\n",
       "    <tr>\n",
       "      <th>1696</th>\n",
       "      <td>17.145296</td>\n",
       "      <td>-101.726894</td>\n",
       "    </tr>\n",
       "  </tbody>\n",
       "</table>\n",
       "</div>"
      ],
      "text/plain": [
       "          input      output\n",
       "1692  25.410184  -76.380902\n",
       "1693  29.537304  -82.796934\n",
       "1694  31.633331  -87.000000\n",
       "1695  29.091458 -104.943052\n",
       "1696  17.145296 -101.726894"
      ]
     },
     "execution_count": 4,
     "metadata": {},
     "output_type": "execute_result"
    }
   ],
   "source": [
    "# Last five rows\n",
    "data.tail()"
   ]
  },
  {
   "cell_type": "code",
   "execution_count": 5,
   "id": "f93c7e0a",
   "metadata": {},
   "outputs": [
    {
     "data": {
      "text/plain": [
       "(1697, 2)"
      ]
     },
     "execution_count": 5,
     "metadata": {},
     "output_type": "execute_result"
    }
   ],
   "source": [
    "# shape of dataset\n",
    "data.shape"
   ]
  },
  {
   "cell_type": "code",
   "execution_count": 6,
   "id": "4dd83d24",
   "metadata": {},
   "outputs": [
    {
     "data": {
      "text/plain": [
       "Index(['input', 'output'], dtype='object')"
      ]
     },
     "execution_count": 6,
     "metadata": {},
     "output_type": "execute_result"
    }
   ],
   "source": [
    "# columns of dataset\n",
    "data.columns"
   ]
  },
  {
   "cell_type": "code",
   "execution_count": 7,
   "id": "857635bd",
   "metadata": {},
   "outputs": [
    {
     "data": {
      "text/html": [
       "<div>\n",
       "<style scoped>\n",
       "    .dataframe tbody tr th:only-of-type {\n",
       "        vertical-align: middle;\n",
       "    }\n",
       "\n",
       "    .dataframe tbody tr th {\n",
       "        vertical-align: top;\n",
       "    }\n",
       "\n",
       "    .dataframe thead th {\n",
       "        text-align: right;\n",
       "    }\n",
       "</style>\n",
       "<table border=\"1\" class=\"dataframe\">\n",
       "  <thead>\n",
       "    <tr style=\"text-align: right;\">\n",
       "      <th></th>\n",
       "      <th>input</th>\n",
       "      <th>output</th>\n",
       "    </tr>\n",
       "  </thead>\n",
       "  <tbody>\n",
       "    <tr>\n",
       "      <th>count</th>\n",
       "      <td>1696.000000</td>\n",
       "      <td>1696.000000</td>\n",
       "    </tr>\n",
       "    <tr>\n",
       "      <th>mean</th>\n",
       "      <td>1.159933</td>\n",
       "      <td>-34.088017</td>\n",
       "    </tr>\n",
       "    <tr>\n",
       "      <th>std</th>\n",
       "      <td>79.005970</td>\n",
       "      <td>65.771112</td>\n",
       "    </tr>\n",
       "    <tr>\n",
       "      <th>min</th>\n",
       "      <td>-134.962839</td>\n",
       "      <td>-132.422167</td>\n",
       "    </tr>\n",
       "    <tr>\n",
       "      <th>25%</th>\n",
       "      <td>-63.386506</td>\n",
       "      <td>-80.026767</td>\n",
       "    </tr>\n",
       "    <tr>\n",
       "      <th>50%</th>\n",
       "      <td>10.195194</td>\n",
       "      <td>-50.470981</td>\n",
       "    </tr>\n",
       "    <tr>\n",
       "      <th>75%</th>\n",
       "      <td>70.264109</td>\n",
       "      <td>-11.000000</td>\n",
       "    </tr>\n",
       "    <tr>\n",
       "      <th>max</th>\n",
       "      <td>134.605775</td>\n",
       "      <td>134.425495</td>\n",
       "    </tr>\n",
       "  </tbody>\n",
       "</table>\n",
       "</div>"
      ],
      "text/plain": [
       "             input       output\n",
       "count  1696.000000  1696.000000\n",
       "mean      1.159933   -34.088017\n",
       "std      79.005970    65.771112\n",
       "min    -134.962839  -132.422167\n",
       "25%     -63.386506   -80.026767\n",
       "50%      10.195194   -50.470981\n",
       "75%      70.264109   -11.000000\n",
       "max     134.605775   134.425495"
      ]
     },
     "execution_count": 7,
     "metadata": {},
     "output_type": "execute_result"
    }
   ],
   "source": [
    "# Examine the data\n",
    "data.describe()"
   ]
  },
  {
   "cell_type": "code",
   "execution_count": 8,
   "id": "92ff5771",
   "metadata": {},
   "outputs": [
    {
     "data": {
      "text/plain": [
       "input     float64\n",
       "output    float64\n",
       "dtype: object"
      ]
     },
     "execution_count": 8,
     "metadata": {},
     "output_type": "execute_result"
    }
   ],
   "source": [
    "data.dtypes"
   ]
  },
  {
   "cell_type": "code",
   "execution_count": 9,
   "id": "da32354a",
   "metadata": {},
   "outputs": [
    {
     "name": "stdout",
     "output_type": "stream",
     "text": [
      "<class 'pandas.core.frame.DataFrame'>\n",
      "RangeIndex: 1697 entries, 0 to 1696\n",
      "Data columns (total 2 columns):\n",
      " #   Column  Non-Null Count  Dtype  \n",
      "---  ------  --------------  -----  \n",
      " 0   input   1696 non-null   float64\n",
      " 1   output  1696 non-null   float64\n",
      "dtypes: float64(2)\n",
      "memory usage: 26.6 KB\n"
     ]
    }
   ],
   "source": [
    "# check missing values\n",
    "data.info()"
   ]
  },
  {
   "cell_type": "code",
   "execution_count": 10,
   "id": "c713ee3c",
   "metadata": {},
   "outputs": [
    {
     "data": {
      "image/png": "[encoded data removed]",
      "text/plain": [
       "<Figure size 1080x720 with 2 Axes>"
      ]
     },
     "metadata": {},
     "output_type": "display_data"
    }
   ],
   "source": [
    "plt.figure(figsize=(15,10),facecolor='white')\n",
    "plotnumber=1\n",
    "\n",
    "for column in data:\n",
    "    if plotnumber<=4:\n",
    "        ax=plt.subplot(2,2,plotnumber)\n",
    "        sns.boxplot(data[column])\n",
    "        plt.xlabel(column,fontsize=20)\n",
    "        plt.ylabel('Count',fontsize=20)\n",
    "    plotnumber+=1\n",
    "plt.tight_layout()"
   ]
  },
  {
   "cell_type": "markdown",
   "id": "addae813",
   "metadata": {},
   "source": [
    "* Outliers present in output feature."
   ]
  },
  {
   "cell_type": "code",
   "execution_count": 11,
   "id": "d97cb47b",
   "metadata": {},
   "outputs": [
    {
     "data": {
      "image/png": "[encoded data removed]",
      "text/plain": [
       "<Figure size 1080x720 with 2 Axes>"
      ]
     },
     "metadata": {},
     "output_type": "display_data"
    }
   ],
   "source": [
    "plt.figure(figsize=(15,10),facecolor='white')\n",
    "plotnumber=1\n",
    "\n",
    "for column in data:\n",
    "    if plotnumber<=4:\n",
    "        ax=plt.subplot(2,2,plotnumber)\n",
    "        sns.distplot(data[column])\n",
    "        plt.xlabel(column,fontsize=20)\n",
    "        plt.ylabel('Count',fontsize=20)\n",
    "    plotnumber+=1\n",
    "plt.tight_layout()"
   ]
  },
  {
   "cell_type": "markdown",
   "id": "ba7592a6",
   "metadata": {},
   "source": [
    "# Outliers Handling"
   ]
  },
  {
   "cell_type": "code",
   "execution_count": 12,
   "id": "1dd399c9",
   "metadata": {},
   "outputs": [
    {
     "data": {
      "text/plain": [
       "163.22531948143688"
      ]
     },
     "execution_count": 12,
     "metadata": {},
     "output_type": "execute_result"
    }
   ],
   "source": [
    "upper_limit = data.output.mean() + 3*data.output.std()\n",
    "upper_limit"
   ]
  },
  {
   "cell_type": "code",
   "execution_count": 13,
   "id": "c6a50037",
   "metadata": {},
   "outputs": [
    {
     "data": {
      "text/plain": [
       "-231.40135386797573"
      ]
     },
     "execution_count": 13,
     "metadata": {},
     "output_type": "execute_result"
    }
   ],
   "source": [
    "lower_limit = data.output.mean() -3*data.output.std()\n",
    "lower_limit"
   ]
  },
  {
   "cell_type": "code",
   "execution_count": 14,
   "id": "18c6bd3d",
   "metadata": {},
   "outputs": [
    {
     "data": {
      "text/plain": [
       "0"
      ]
     },
     "execution_count": 14,
     "metadata": {},
     "output_type": "execute_result"
    }
   ],
   "source": [
    "len((data.loc[data['output'] > upper_limit]))"
   ]
  },
  {
   "cell_type": "code",
   "execution_count": 15,
   "id": "58afa426",
   "metadata": {},
   "outputs": [
    {
     "data": {
      "text/plain": [
       "0"
      ]
     },
     "execution_count": 15,
     "metadata": {},
     "output_type": "execute_result"
    }
   ],
   "source": [
    "len((data.loc[data['output'] < lower_limit]))"
   ]
  },
  {
   "cell_type": "code",
   "execution_count": 16,
   "id": "b7c2862a",
   "metadata": {},
   "outputs": [],
   "source": [
    "data.loc[data['output'] > upper_limit,'output']=data['output'].median()"
   ]
  },
  {
   "cell_type": "code",
   "execution_count": 17,
   "id": "8401647f",
   "metadata": {},
   "outputs": [
    {
     "data": {
      "text/html": [
       "<div>\n",
       "<style scoped>\n",
       "    .dataframe tbody tr th:only-of-type {\n",
       "        vertical-align: middle;\n",
       "    }\n",
       "\n",
       "    .dataframe tbody tr th {\n",
       "        vertical-align: top;\n",
       "    }\n",
       "\n",
       "    .dataframe thead th {\n",
       "        text-align: right;\n",
       "    }\n",
       "</style>\n",
       "<table border=\"1\" class=\"dataframe\">\n",
       "  <thead>\n",
       "    <tr style=\"text-align: right;\">\n",
       "      <th></th>\n",
       "      <th>input</th>\n",
       "      <th>output</th>\n",
       "    </tr>\n",
       "  </thead>\n",
       "  <tbody>\n",
       "  </tbody>\n",
       "</table>\n",
       "</div>"
      ],
      "text/plain": [
       "Empty DataFrame\n",
       "Columns: [input, output]\n",
       "Index: []"
      ]
     },
     "execution_count": 17,
     "metadata": {},
     "output_type": "execute_result"
    }
   ],
   "source": [
    "(data.loc[data['output'] > upper_limit])"
   ]
  },
  {
   "cell_type": "code",
   "execution_count": 18,
   "id": "bc260d4b",
   "metadata": {},
   "outputs": [],
   "source": [
    "data.loc[data['output'] < lower_limit,'output']=data['output'].median()"
   ]
  },
  {
   "cell_type": "code",
   "execution_count": 19,
   "id": "343a74c8",
   "metadata": {},
   "outputs": [
    {
     "data": {
      "text/html": [
       "<div>\n",
       "<style scoped>\n",
       "    .dataframe tbody tr th:only-of-type {\n",
       "        vertical-align: middle;\n",
       "    }\n",
       "\n",
       "    .dataframe tbody tr th {\n",
       "        vertical-align: top;\n",
       "    }\n",
       "\n",
       "    .dataframe thead th {\n",
       "        text-align: right;\n",
       "    }\n",
       "</style>\n",
       "<table border=\"1\" class=\"dataframe\">\n",
       "  <thead>\n",
       "    <tr style=\"text-align: right;\">\n",
       "      <th></th>\n",
       "      <th>input</th>\n",
       "      <th>output</th>\n",
       "    </tr>\n",
       "  </thead>\n",
       "  <tbody>\n",
       "  </tbody>\n",
       "</table>\n",
       "</div>"
      ],
      "text/plain": [
       "Empty DataFrame\n",
       "Columns: [input, output]\n",
       "Index: []"
      ]
     },
     "execution_count": 19,
     "metadata": {},
     "output_type": "execute_result"
    }
   ],
   "source": [
    "(data.loc[data['output'] < lower_limit])"
   ]
  },
  {
   "cell_type": "code",
   "execution_count": 20,
   "id": "85190dc8",
   "metadata": {
    "scrolled": true
   },
   "outputs": [
    {
     "data": {
      "text/plain": [
       "<AxesSubplot:xlabel='output'>"
      ]
     },
     "execution_count": 20,
     "metadata": {},
     "output_type": "execute_result"
    },
    {
     "data": {
      "image/png": "[encoded data removed]",
      "text/plain": [
       "<Figure size 432x288 with 1 Axes>"
      ]
     },
     "metadata": {
      "needs_background": "light"
     },
     "output_type": "display_data"
    }
   ],
   "source": [
    "sns.boxplot(x=data.output)"
   ]
  },
  {
   "cell_type": "code",
   "execution_count": 21,
   "id": "a2647d7f",
   "metadata": {},
   "outputs": [],
   "source": [
    "# Scaling the data\n",
    "from sklearn.preprocessing import StandardScaler\n",
    "scaler=StandardScaler()\n",
    "scaled_data=scaler.fit_transform(data)"
   ]
  },
  {
   "cell_type": "markdown",
   "id": "4b5853a1",
   "metadata": {},
   "source": [
    "# Feature selection"
   ]
  },
  {
   "cell_type": "code",
   "execution_count": 22,
   "id": "11ecf32b",
   "metadata": {},
   "outputs": [
    {
     "data": {
      "text/plain": [
       "<AxesSubplot:>"
      ]
     },
     "execution_count": 22,
     "metadata": {},
     "output_type": "execute_result"
    },
    {
     "data": {
      "image/png": "[encoded data removed]",
      "text/plain": [
       "<Figure size 360x360 with 2 Axes>"
      ]
     },
     "metadata": {
      "needs_background": "light"
     },
     "output_type": "display_data"
    }
   ],
   "source": [
    "## Checking correlation\n",
    "\n",
    "plt.figure(figsize=(5,5))\n",
    "sns.heatmap(data.corr(), annot=True,cmap=\"RdYlGn\", annot_kws={\"size\":15})"
   ]
  },
  {
   "cell_type": "markdown",
   "id": "2dd7e6a1",
   "metadata": {},
   "source": [
    "# Model creation"
   ]
  },
  {
   "cell_type": "code",
   "execution_count": 23,
   "id": "780ac535",
   "metadata": {},
   "outputs": [
    {
     "data": {
      "text/plain": [
       "input     1\n",
       "output    1\n",
       "dtype: int64"
      ]
     },
     "execution_count": 23,
     "metadata": {},
     "output_type": "execute_result"
    }
   ],
   "source": [
    "data.isnull().sum()"
   ]
  },
  {
   "cell_type": "markdown",
   "id": "f61196b5",
   "metadata": {},
   "source": [
    "* missing values present in input & output features."
   ]
  },
  {
   "cell_type": "code",
   "execution_count": 24,
   "id": "363e07ba",
   "metadata": {},
   "outputs": [],
   "source": [
    "data['input']=data['input'].fillna(data['input'].median())"
   ]
  },
  {
   "cell_type": "code",
   "execution_count": 25,
   "id": "fc7ab61c",
   "metadata": {},
   "outputs": [],
   "source": [
    "data['output']=data['output'].fillna(data['input'].median())"
   ]
  },
  {
   "cell_type": "code",
   "execution_count": 26,
   "id": "f09ef120",
   "metadata": {},
   "outputs": [
    {
     "data": {
      "text/plain": [
       "input     0\n",
       "output    0\n",
       "dtype: int64"
      ]
     },
     "execution_count": 26,
     "metadata": {},
     "output_type": "execute_result"
    }
   ],
   "source": [
    "data.isnull().sum()"
   ]
  },
  {
   "cell_type": "code",
   "execution_count": 27,
   "id": "885e03df",
   "metadata": {},
   "outputs": [],
   "source": [
    "## Creating independent and dependent variable\n",
    "X = data.input\n",
    "Y = data.output"
   ]
  },
  {
   "cell_type": "code",
   "execution_count": 28,
   "id": "0b749b02",
   "metadata": {},
   "outputs": [],
   "source": [
    "X=np.array(X).reshape(-1,1)"
   ]
  },
  {
   "cell_type": "code",
   "execution_count": 29,
   "id": "98c07a76",
   "metadata": {},
   "outputs": [],
   "source": [
    "## preparing training and testing data\n",
    "from sklearn.model_selection import train_test_split\n",
    "X_train, X_test, Y_train, Y_test = train_test_split(X, Y, test_size=0.25, random_state=42)"
   ]
  },
  {
   "cell_type": "code",
   "execution_count": 30,
   "id": "fde4e2cd",
   "metadata": {},
   "outputs": [
    {
     "data": {
      "text/plain": [
       "array([[  -5.18512452],\n",
       "       [-115.5637388 ],\n",
       "       [  84.6333313 ],\n",
       "       ...,\n",
       "       [-120.8121797 ],\n",
       "       [ 105.0756003 ],\n",
       "       [-133.8181748 ]])"
      ]
     },
     "execution_count": 30,
     "metadata": {},
     "output_type": "execute_result"
    }
   ],
   "source": [
    "X_train"
   ]
  },
  {
   "cell_type": "code",
   "execution_count": 31,
   "id": "c62ae01f",
   "metadata": {},
   "outputs": [
    {
     "data": {
      "text/plain": [
       "array([[ 2.98812668e+01],\n",
       "       [-5.08998696e+01],\n",
       "       [-3.40046026e+01],\n",
       "       [ 1.17633331e+02],\n",
       "       [ 8.15812922e+01],\n",
       "       [ 1.10135197e+02],\n",
       "       [-7.58673491e+00],\n",
       "       [ 1.14933691e+01],\n",
       "       [ 1.26257790e+02],\n",
       "       [-6.86556756e+01],\n",
       "       [ 1.66333313e+01],\n",
       "       [ 1.24727894e+02],\n",
       "       [ 9.48247800e+01],\n",
       "       [ 2.96714939e+01],\n",
       "       [-9.32466879e+01],\n",
       "       [-5.18512452e+00],\n",
       "       [-1.33130296e+02],\n",
       "       [-7.83666687e+01],\n",
       "       [ 9.05767223e+01],\n",
       "       [ 1.09085309e+02],\n",
       "       [-2.76921886e+01],\n",
       "       [-1.22366669e+02],\n",
       "       [-2.39954204e+01],\n",
       "       [-8.93666687e+01],\n",
       "       [ 7.76333313e+01],\n",
       "       [ 2.98796474e+01],\n",
       "       [-1.27366669e+02],\n",
       "       [-2.93916879e+01],\n",
       "       [ 8.86333313e+01],\n",
       "       [ 6.71474931e+01],\n",
       "       [-1.13313112e+02],\n",
       "       [ 6.36225441e+01],\n",
       "       [-2.43666687e+01],\n",
       "       [-1.13278338e+02],\n",
       "       [ 6.06333313e+01],\n",
       "       [ 6.22527991e+01],\n",
       "       [ 6.46442617e+01],\n",
       "       [-2.98077384e+01],\n",
       "       [ 1.00881857e+02],\n",
       "       [ 5.44348613e+01],\n",
       "       [ 3.66305939e+01],\n",
       "       [-1.24366669e+02],\n",
       "       [ 5.89160873e+01],\n",
       "       [-1.23366669e+02],\n",
       "       [-1.36723548e+00],\n",
       "       [ 3.09256481e+01],\n",
       "       [ 5.91664276e+01],\n",
       "       [-1.23371849e+02],\n",
       "       [ 9.62685923e+00],\n",
       "       [-9.43091377e+01],\n",
       "       [-9.73666687e+01],\n",
       "       [ 2.49471990e+01],\n",
       "       [-1.30789929e+02],\n",
       "       [ 1.14633331e+02],\n",
       "       [ 1.12659878e+02],\n",
       "       [ 1.50419578e+01],\n",
       "       [ 5.51718735e+01],\n",
       "       [ 4.08095959e+00],\n",
       "       [ 4.69991975e+01],\n",
       "       [-1.21060221e+02],\n",
       "       [ 5.43784261e+01],\n",
       "       [ 5.16224752e+01],\n",
       "       [ 5.16333313e+01],\n",
       "       [ 8.55597633e+01],\n",
       "       [ 2.44290562e+01],\n",
       "       [-1.07371224e+02],\n",
       "       [ 6.63333130e+00],\n",
       "       [ 8.46333313e+01],\n",
       "       [-9.36666870e+00],\n",
       "       [ 1.05550726e+02],\n",
       "       [ 4.53235284e+01],\n",
       "       [ 8.84115446e+01],\n",
       "       [ 1.24452833e+02],\n",
       "       [-8.94023054e+01],\n",
       "       [ 3.52823622e+01],\n",
       "       [ 1.03818468e+02],\n",
       "       [ 4.93499686e+01],\n",
       "       [ 1.24641014e+02],\n",
       "       [ 8.28417435e+01],\n",
       "       [ 2.65209973e+00],\n",
       "       [ 5.72067476e+01],\n",
       "       [-1.11044048e+02],\n",
       "       [ 1.72908434e+01],\n",
       "       [-2.74902037e+01],\n",
       "       [-6.03666687e+01],\n",
       "       [-1.20366669e+02],\n",
       "       [ 1.87466308e+01],\n",
       "       [-1.26637640e+02],\n",
       "       [ 7.35942822e+01],\n",
       "       [-6.15588940e+01],\n",
       "       [-1.75724879e+01],\n",
       "       [ 3.66333313e+01],\n",
       "       [-2.99591628e+01],\n",
       "       [ 2.34431365e+01],\n",
       "       [-1.25366669e+02],\n",
       "       [ 8.44984649e+01],\n",
       "       [-1.25905898e+02],\n",
       "       [ 8.32741235e+01],\n",
       "       [-1.68923022e+01],\n",
       "       [ 4.67343314e+01],\n",
       "       [ 2.06333313e+01],\n",
       "       [ 5.89157904e+01],\n",
       "       [ 6.10534997e+00],\n",
       "       [ 4.29293399e+01],\n",
       "       [-9.46835246e-01],\n",
       "       [ 1.19200242e+02],\n",
       "       [-1.14913349e+02],\n",
       "       [-5.34441220e-02],\n",
       "       [-1.22879792e+02],\n",
       "       [ 8.19608130e+01],\n",
       "       [ 2.06333313e+01],\n",
       "       [ 7.44129805e+01],\n",
       "       [-1.25085620e+02],\n",
       "       [ 8.26333313e+01],\n",
       "       [ 8.63333130e+00],\n",
       "       [-6.29644659e+01],\n",
       "       [ 3.09073860e+01],\n",
       "       [-1.48230951e+01],\n",
       "       [ 1.86333313e+01],\n",
       "       [-1.03293097e+02],\n",
       "       [ 4.11172267e+01],\n",
       "       [-1.16197531e+02],\n",
       "       [ 9.42869768e+01],\n",
       "       [-1.24366669e+02],\n",
       "       [ 1.14710655e+02],\n",
       "       [-1.25366669e+02],\n",
       "       [-1.13257481e+02],\n",
       "       [ 1.12633331e+02],\n",
       "       [ 1.05343051e+02],\n",
       "       [ 7.00294931e+01],\n",
       "       [-1.06199190e+02],\n",
       "       [-1.24503683e+02],\n",
       "       [ 2.55671738e+01],\n",
       "       [-1.17358953e+02],\n",
       "       [ 1.46333313e+01],\n",
       "       [-2.17403122e+01],\n",
       "       [ 4.37878102e+01],\n",
       "       [ 8.28960497e+01],\n",
       "       [-1.01648740e+02],\n",
       "       [-3.14543411e+01],\n",
       "       [ 7.04537600e+01],\n",
       "       [ 3.98486544e+01],\n",
       "       [ 1.58336329e+01],\n",
       "       [ 2.76333313e+01],\n",
       "       [ 3.58169221e+01],\n",
       "       [-3.13666687e+01],\n",
       "       [ 1.10633331e+02],\n",
       "       [ 7.52492312e+01],\n",
       "       [-1.20069624e+02],\n",
       "       [ 5.26333313e+01],\n",
       "       [ 2.44290562e+01],\n",
       "       [-9.66983513e+01],\n",
       "       [ 1.21060076e+02],\n",
       "       [ 2.63333130e+00],\n",
       "       [ 7.66333313e+01],\n",
       "       [-4.05521749e+01],\n",
       "       [-9.39196666e+00],\n",
       "       [ 5.46333313e+01],\n",
       "       [ 8.38572370e+01],\n",
       "       [ 3.97632351e+01],\n",
       "       [-9.70815194e+01],\n",
       "       [ 1.32974904e+02],\n",
       "       [ 5.11400795e+01],\n",
       "       [ 9.76333313e+01],\n",
       "       [ 6.23157677e+01],\n",
       "       [-1.29565624e+02],\n",
       "       [-1.23003227e+02],\n",
       "       [ 9.06333313e+01],\n",
       "       [ 1.31909580e+02],\n",
       "       [ 1.20633331e+02],\n",
       "       [-7.54360389e+00],\n",
       "       [ 1.10008200e+02],\n",
       "       [ 9.39486641e+01],\n",
       "       [ 8.51075377e+01],\n",
       "       [ 3.66920208e+01],\n",
       "       [-1.00330221e+01],\n",
       "       [ 5.16333313e+01],\n",
       "       [ 3.74918334e+01],\n",
       "       [-9.51554493e+01],\n",
       "       [-5.28257306e+01],\n",
       "       [ 5.13237417e+01],\n",
       "       [ 2.63333130e+00],\n",
       "       [ 1.43261801e+01],\n",
       "       [ 3.09073860e+01],\n",
       "       [ 1.86333313e+01],\n",
       "       [-1.12366669e+02],\n",
       "       [ 1.03579923e+02],\n",
       "       [-1.20366669e+02],\n",
       "       [-9.89477182e+01],\n",
       "       [ 3.40184006e+01],\n",
       "       [-8.70241036e+01],\n",
       "       [-7.83481992e+01],\n",
       "       [ 7.66333313e+01],\n",
       "       [ 9.46682510e+01],\n",
       "       [-1.90653727e+01],\n",
       "       [ 7.04676664e+01],\n",
       "       [-2.12891662e+01],\n",
       "       [ 2.23302716e+01],\n",
       "       [ 1.17756802e+02],\n",
       "       [-3.48218737e+01],\n",
       "       [-4.24402861e+01],\n",
       "       [ 5.54444971e+01],\n",
       "       [-1.25366669e+02],\n",
       "       [-7.27079709e+01],\n",
       "       [-4.91094358e+01],\n",
       "       [-1.49501322e+00],\n",
       "       [ 5.06081020e+01],\n",
       "       [ 1.19024846e+02],\n",
       "       [ 6.69719441e+01],\n",
       "       [ 6.96333313e+01],\n",
       "       [-1.15703631e+02],\n",
       "       [ 3.27238837e+01],\n",
       "       [ 4.61475039e+01],\n",
       "       [ 3.63333130e+00],\n",
       "       [ 1.08134871e+02],\n",
       "       [-1.44345914e+01],\n",
       "       [-1.15366669e+02],\n",
       "       [ 5.57504025e+01],\n",
       "       [ 9.08222729e+01],\n",
       "       [-1.00558046e+02],\n",
       "       [ 1.12165777e+02],\n",
       "       [ 2.66927723e+01],\n",
       "       [-5.16089423e+01],\n",
       "       [ 1.34605775e+02],\n",
       "       [ 4.23597289e+01],\n",
       "       [ 7.16333313e+01],\n",
       "       [ 1.06496484e-01],\n",
       "       [-1.10265677e+02],\n",
       "       [-8.39408208e+01],\n",
       "       [ 3.06333313e+01],\n",
       "       [ 7.74491549e+01],\n",
       "       [ 1.08637757e+01],\n",
       "       [ 4.63333130e+00],\n",
       "       [-7.26105074e+01],\n",
       "       [ 1.16333313e+01],\n",
       "       [ 1.57404244e+01],\n",
       "       [-1.10366669e+02],\n",
       "       [ 4.09360131e+01],\n",
       "       [-2.18956157e+01],\n",
       "       [-9.36937922e+01],\n",
       "       [ 2.81294372e+01],\n",
       "       [-1.17880300e+01],\n",
       "       [ 3.67191403e+01],\n",
       "       [-4.83077216e+01],\n",
       "       [ 1.77845539e+01],\n",
       "       [-1.19954237e+02],\n",
       "       [-4.73729330e+01],\n",
       "       [ 3.32061394e+01],\n",
       "       [ 2.90914577e+01],\n",
       "       [ 4.37878102e+01],\n",
       "       [ 6.36225441e+01],\n",
       "       [-8.13666687e+01],\n",
       "       [-4.71867345e+00],\n",
       "       [-1.09366669e+02],\n",
       "       [-3.92122614e+01],\n",
       "       [ 1.09542575e+02],\n",
       "       [ 3.66333313e+01],\n",
       "       [-1.17366669e+02],\n",
       "       [-1.21531419e+02],\n",
       "       [ 1.14231059e+02],\n",
       "       [-6.83758247e+01],\n",
       "       [ 1.86333313e+01],\n",
       "       [ 3.33514051e+01],\n",
       "       [-7.57315404e+00],\n",
       "       [ 7.34653722e+01],\n",
       "       [ 3.83340716e+01],\n",
       "       [ 1.05886607e+02],\n",
       "       [ 2.25691244e+01],\n",
       "       [-2.53666687e+01],\n",
       "       [-1.13313112e+02],\n",
       "       [ 1.26571661e+02],\n",
       "       [-1.03366669e+02],\n",
       "       [ 9.89197070e+00],\n",
       "       [-1.05893180e+02],\n",
       "       [-1.10265677e+02],\n",
       "       [-1.22657676e+02],\n",
       "       [-1.12366669e+02],\n",
       "       [-1.24366669e+02],\n",
       "       [-1.15366669e+02],\n",
       "       [-4.28080110e+00],\n",
       "       [ 1.11921765e+02],\n",
       "       [-1.48230951e+01],\n",
       "       [ 5.76333313e+01],\n",
       "       [ 1.01270735e+02],\n",
       "       [ 1.28036571e+02],\n",
       "       [-2.61307632e+01],\n",
       "       [-7.57315404e+00],\n",
       "       [-1.11504504e+02],\n",
       "       [ 2.46333313e+01],\n",
       "       [-9.36666870e+00],\n",
       "       [-1.33818175e+02],\n",
       "       [ 2.89765076e+01],\n",
       "       [ 1.25232935e+02],\n",
       "       [ 9.32628086e+00],\n",
       "       [ 3.99188732e+01],\n",
       "       [ 7.58023080e+01],\n",
       "       [-1.19524112e+02],\n",
       "       [ 3.24906074e+01],\n",
       "       [ 1.82747157e+01],\n",
       "       [-6.16116056e+01],\n",
       "       [-2.74902037e+01],\n",
       "       [ 1.73633985e+00],\n",
       "       [ 4.48129791e+01],\n",
       "       [ 9.64600545e+01],\n",
       "       [-7.48868233e+01],\n",
       "       [-1.20605951e+02],\n",
       "       [-1.22740667e+02],\n",
       "       [-1.25366669e+02],\n",
       "       [ 9.38643289e+01],\n",
       "       [-5.03756075e+01],\n",
       "       [ 7.54519424e+01],\n",
       "       [-9.66936940e+01],\n",
       "       [ 1.22015450e+02],\n",
       "       [ 8.06333313e+01],\n",
       "       [-1.20275093e+02],\n",
       "       [-5.89881963e+01],\n",
       "       [ 5.46333313e+01],\n",
       "       [-8.70241036e+01],\n",
       "       [-8.58086088e+01],\n",
       "       [-2.96461739e+01],\n",
       "       [-7.65552412e+01],\n",
       "       [-3.36666870e+00],\n",
       "       [ 9.62685923e+00],\n",
       "       [-1.36666870e+00],\n",
       "       [-1.36666870e+00],\n",
       "       [-1.13853088e+02],\n",
       "       [ 1.20633331e+02],\n",
       "       [ 1.16329184e+01],\n",
       "       [-1.14508654e+02],\n",
       "       [ 4.61475039e+01],\n",
       "       [-4.73729330e+01],\n",
       "       [ 5.56333313e+01],\n",
       "       [ 6.02362351e+01],\n",
       "       [ 2.15688818e+01],\n",
       "       [ 7.14049567e+01],\n",
       "       [ 3.87609687e+01],\n",
       "       [ 9.39486641e+01],\n",
       "       [ 5.74923691e+00],\n",
       "       [ 7.64404870e+01],\n",
       "       [ 1.12589050e+02],\n",
       "       [-1.13228225e+02],\n",
       "       [ 1.12676437e+02],\n",
       "       [ 1.17759766e+02],\n",
       "       [ 3.08721041e+01],\n",
       "       [ 1.26333313e+01],\n",
       "       [-1.17609424e+02],\n",
       "       [ 2.47159940e+01],\n",
       "       [ 8.02141952e+01],\n",
       "       [ 7.51857335e+01],\n",
       "       [-4.05521749e+01],\n",
       "       [ 9.89966355e+01],\n",
       "       [ 1.12633331e+02],\n",
       "       [ 8.26333313e+01],\n",
       "       [ 1.26333313e+01],\n",
       "       [-8.26171418e-01],\n",
       "       [-9.83141317e+00],\n",
       "       [ 9.31980818e+01],\n",
       "       [ 8.55682125e+01],\n",
       "       [-2.62070178e+01],\n",
       "       [ 1.10176603e+02],\n",
       "       [ 6.10534997e+00],\n",
       "       [ 4.76333313e+01],\n",
       "       [-3.77405673e+01],\n",
       "       [-3.13666687e+01],\n",
       "       [ 3.62746198e+00],\n",
       "       [-7.34400993e+00],\n",
       "       [ 1.82586798e+01],\n",
       "       [ 8.46333313e+01],\n",
       "       [-2.56631225e+00],\n",
       "       [ 2.96692006e+01],\n",
       "       [ 7.20417171e+01],\n",
       "       [-1.11044048e+02],\n",
       "       [-1.04961009e+02],\n",
       "       [-1.34407988e+02],\n",
       "       [ 2.66927723e+01],\n",
       "       [-1.10784447e+02],\n",
       "       [-3.74999056e+01],\n",
       "       [ 4.62878444e+01],\n",
       "       [-4.87667073e+01],\n",
       "       [ 1.15253900e+02],\n",
       "       [ 2.13120679e+00],\n",
       "       [-2.45038574e+01],\n",
       "       [ 6.63333130e+00],\n",
       "       [-8.02639935e+01],\n",
       "       [ 6.86333313e+01],\n",
       "       [-1.17366669e+02],\n",
       "       [ 3.96333313e+01],\n",
       "       [-8.72689749e+01],\n",
       "       [ 1.21060076e+02],\n",
       "       [ 3.18940247e+01],\n",
       "       [-8.27742855e+01],\n",
       "       [ 8.61536580e+01],\n",
       "       [ 4.26333313e+01],\n",
       "       [ 6.36333313e+01],\n",
       "       [-3.71200021e+00],\n",
       "       [ 3.67191403e+01],\n",
       "       [-1.01366669e+02],\n",
       "       [ 7.43460426e+01],\n",
       "       [ 3.42748177e+01],\n",
       "       [-1.03332003e+01],\n",
       "       [-4.85366836e+01],\n",
       "       [ 1.15000547e+02],\n",
       "       [-8.84900956e+01],\n",
       "       [-4.63666687e+01],\n",
       "       [ 4.56496248e+01],\n",
       "       [-7.53666687e+01],\n",
       "       [ 8.42379278e+01],\n",
       "       [ 1.76333313e+01],\n",
       "       [-1.31366669e+02],\n",
       "       [ 3.31930142e+01],\n",
       "       [ 8.59941158e+00],\n",
       "       [-5.73666687e+01],\n",
       "       [-1.25743622e+02],\n",
       "       [ 5.11400795e+01],\n",
       "       [-9.46835246e-01],\n",
       "       [-1.02969454e+02],\n",
       "       [ 1.25916640e+02],\n",
       "       [ 1.96333313e+01],\n",
       "       [ 3.11172936e+01],\n",
       "       [-5.93826143e+01],\n",
       "       [ 3.32105144e+01],\n",
       "       [ 1.13492410e+01],\n",
       "       [ 1.07931883e+02],\n",
       "       [-1.17685497e+02],\n",
       "       [-3.77405673e+01]])"
      ]
     },
     "execution_count": 31,
     "metadata": {},
     "output_type": "execute_result"
    }
   ],
   "source": [
    "X_test"
   ]
  },
  {
   "cell_type": "code",
   "execution_count": 32,
   "id": "d76e77de",
   "metadata": {},
   "outputs": [
    {
     "data": {
      "text/plain": [
       "208     -70.202439\n",
       "1117   -126.267621\n",
       "1417      7.000000\n",
       "1524     29.150656\n",
       "58      -55.000000\n",
       "           ...    \n",
       "1130    -85.090711\n",
       "1294    -52.843621\n",
       "860    -132.422167\n",
       "1459     90.884730\n",
       "1126   -127.063611\n",
       "Name: output, Length: 1272, dtype: float64"
      ]
     },
     "execution_count": 32,
     "metadata": {},
     "output_type": "execute_result"
    }
   ],
   "source": [
    "Y_train"
   ]
  },
  {
   "cell_type": "code",
   "execution_count": 33,
   "id": "101db8ea",
   "metadata": {},
   "outputs": [
    {
     "data": {
      "text/plain": [
       "618     -81.760711\n",
       "115     -51.665133\n",
       "135     -57.318721\n",
       "350     107.000000\n",
       "1395    -25.074661\n",
       "           ...    \n",
       "1617   -111.079269\n",
       "1635   -114.403385\n",
       "425      22.862710\n",
       "1175    -72.978307\n",
       "1259    -46.170716\n",
       "Name: output, Length: 425, dtype: float64"
      ]
     },
     "execution_count": 33,
     "metadata": {},
     "output_type": "execute_result"
    }
   ],
   "source": [
    "Y_test"
   ]
  },
  {
   "cell_type": "markdown",
   "id": "1acebe35",
   "metadata": {},
   "source": [
    "# Linear Regression"
   ]
  },
  {
   "cell_type": "code",
   "execution_count": 34,
   "id": "c64a3131",
   "metadata": {},
   "outputs": [],
   "source": [
    "# Creating model\n",
    "from sklearn.linear_model import LinearRegression\n",
    "LR=LinearRegression() # object creation\n",
    "LR.fit(X_train,Y_train) # training of linear regression\n",
    "y_predict=LR.predict(X_test)"
   ]
  },
  {
   "cell_type": "code",
   "execution_count": 35,
   "id": "5aa2409e",
   "metadata": {},
   "outputs": [
    {
     "data": {
      "text/plain": [
       "array([-2.10845157e+01, -5.70486438e+01, -4.95267944e+01,  1.79831012e+01,\n",
       "        1.93257001e+00,  1.46448979e+01, -3.77654399e+01, -2.92708911e+01,\n",
       "        2.18227493e+01, -6.49536091e+01, -2.69825566e+01,  2.11416327e+01,\n",
       "        7.82863080e+00, -2.11779075e+01, -7.59016393e+01, -3.66962321e+01,\n",
       "       -9.36580023e+01, -6.92769873e+01,  5.93737627e+00,  1.41774829e+01,\n",
       "       -4.67164790e+01, -8.88659867e+01, -4.50706611e+01, -7.41742371e+01,\n",
       "        1.74919907e-01, -2.10852367e+01, -9.10920094e+01, -4.74731038e+01,\n",
       "        5.07216977e+00, -4.49342278e+00, -8.48353021e+01, -6.06274607e+00,\n",
       "       -4.52359425e+01, -8.48198208e+01, -7.39355716e+00, -6.67256276e+00,\n",
       "       -5.60787278e+00, -4.76583314e+01,  1.05252692e+01, -1.01531441e+01,\n",
       "       -1.80796846e+01, -8.97563958e+01, -8.15808197e+00, -8.93111913e+01,\n",
       "       -3.49964906e+01, -2.06195524e+01, -8.04662933e+00, -8.93134976e+01,\n",
       "       -3.01018697e+01, -7.63746467e+01, -7.77358734e+01, -2.32811851e+01,\n",
       "       -9.26160604e+01,  1.66474876e+01,  1.57688972e+01, -2.76910433e+01,\n",
       "       -9.82502293e+00, -3.25709294e+01, -1.34635353e+01, -8.82843501e+01,\n",
       "       -1.01782693e+01, -1.14052312e+01, -1.14003980e+01,  3.70380336e+00,\n",
       "       -2.35118645e+01, -8.21899467e+01, -3.14346020e+01,  3.29135164e+00,\n",
       "       -3.85578745e+01,  1.26038705e+01, -1.42095508e+01,  4.97342935e+00,\n",
       "        2.10191745e+01, -7.41901028e+01, -1.86799235e+01,  1.18326617e+01,\n",
       "       -1.24169614e+01,  2.11029535e+01,  2.49372865e+00, -3.32070643e+01,\n",
       "       -8.91908778e+00, -8.38251047e+01, -2.66898293e+01, -4.66265544e+01,\n",
       "       -6.12633057e+01, -8.79755777e+01, -2.60417061e+01, -9.07674425e+01,\n",
       "       -1.62328308e+00, -6.17940898e+01, -4.22111424e+01, -1.80784660e+01,\n",
       "       -4.77257462e+01, -2.39508005e+01, -9.02016003e+01,  3.23130852e+00,\n",
       "       -9.04416678e+01,  2.68622617e+00, -4.19083206e+01, -1.35814549e+01,\n",
       "       -2.52017385e+01, -8.15821413e+00, -3.16696616e+01, -1.52754544e+01,\n",
       "       -3.48093265e+01,  1.86806968e+01, -8.55477350e+01, -3.44115847e+01,\n",
       "       -8.90944317e+01,  2.10153440e+00, -2.52017385e+01, -1.25879489e+00,\n",
       "       -9.00764763e+01,  2.40094257e+00, -3.05441929e+01, -6.24198568e+01,\n",
       "       -2.06276828e+01, -4.09871002e+01, -2.60921476e+01, -8.03743460e+01,\n",
       "       -1.60822154e+01, -8.61194587e+01,  7.58919837e+00, -8.97563958e+01,\n",
       "        1.66819126e+01, -9.02016003e+01, -8.48105350e+01,  1.57570786e+01,\n",
       "        1.25114125e+01, -3.21034333e+00, -8.16681517e+01, -8.98173951e+01,\n",
       "       -2.30051694e+01, -8.66365288e+01, -2.78729657e+01, -4.40666767e+01,\n",
       "       -1.48932595e+01,  2.51790598e+00, -7.96422707e+01, -4.83914064e+01,\n",
       "       -3.02145776e+00, -1.66469895e+01, -2.73385860e+01, -2.20853068e+01,\n",
       "       -1.84419350e+01, -4.83523742e+01,  1.48666695e+01, -8.86492251e-01,\n",
       "       -8.78433322e+01, -1.09551934e+01, -2.35118645e+01, -7.74383355e+01,\n",
       "        1.95087033e+01, -3.32154201e+01, -2.70284626e-01, -5.24418032e+01,\n",
       "       -3.85691372e+01, -1.00647844e+01,  2.94583096e+00, -1.66850186e+01,\n",
       "       -7.76089236e+01,  2.48132389e+01, -1.16199959e+01,  9.07901057e+00,\n",
       "       -6.64452884e+00, -9.20709942e+01, -8.91493853e+01,  5.96257884e+00,\n",
       "        2.43389519e+01,  1.93187148e+01, -3.77462378e+01,  1.45883580e+01,\n",
       "        7.43858005e+00,  3.50247047e+00, -1.80523371e+01, -3.88545381e+01,\n",
       "       -1.14003980e+01, -1.76962569e+01, -7.67514285e+01, -5.79060458e+01,\n",
       "       -1.15382287e+01, -3.32154201e+01, -2.80097108e+01, -2.06276828e+01,\n",
       "       -2.60921476e+01, -8.44139414e+01,  1.17264603e+01, -8.79755777e+01,\n",
       "       -7.84397638e+01, -1.92426449e+01, -7.31313165e+01, -6.92687646e+01,\n",
       "       -2.70284626e-01,  7.75894338e+00, -4.28757814e+01, -3.01526658e+00,\n",
       "       -4.38658244e+01, -2.44462530e+01,  1.80380711e+01, -4.98906472e+01,\n",
       "       -5.32823989e+01, -9.70364965e+00, -9.02016003e+01, -6.67577094e+01,\n",
       "       -5.62515346e+01, -3.50533778e+01, -1.18568347e+01,  1.86026098e+01,\n",
       "       -4.57157802e+00, -3.38671636e+00, -8.58995723e+01, -1.98189697e+01,\n",
       "       -1.38427132e+01, -3.27702156e+01,  1.37543436e+01, -4.08141366e+01,\n",
       "       -8.57495550e+01, -9.56745921e+00,  6.04669651e+00, -7.91566890e+01,\n",
       "        1.55489215e+01, -2.25040479e+01, -5.73643262e+01,  2.55393102e+01,\n",
       "       -1.55290478e+01, -2.49630729e+00, -3.43403784e+01, -8.34785706e+01,\n",
       "       -7.17586251e+01, -2.07496932e+01,  9.29237214e-02, -2.95511889e+01,\n",
       "       -3.23250110e+01, -6.67143182e+01, -2.92085793e+01, -2.73800828e+01,\n",
       "       -8.35235323e+01, -1.61628925e+01, -4.41358185e+01, -7.61006921e+01,\n",
       "       -2.18644381e+01, -3.96358755e+01, -1.80402634e+01, -5.58946077e+01,\n",
       "       -2.64700271e+01, -8.77919613e+01, -5.54784356e+01, -1.96042673e+01,\n",
       "       -2.14361423e+01, -1.48932595e+01, -6.06274607e+00, -7.06126009e+01,\n",
       "       -3.64885659e+01, -8.30783278e+01, -5.18452677e+01,  1.43810597e+01,\n",
       "       -1.80784660e+01, -8.66399641e+01, -8.84941300e+01,  1.64683941e+01,\n",
       "       -6.48290182e+01, -2.60921476e+01, -1.95395944e+01, -3.77593936e+01,\n",
       "       -1.68067437e+00, -1.73212887e+01,  1.27534064e+01, -2.43399146e+01,\n",
       "       -4.56811470e+01, -8.48353021e+01,  2.19624862e+01, -8.04071006e+01,\n",
       "       -2.99838409e+01, -8.15319151e+01, -8.34785706e+01, -8.89955447e+01,\n",
       "       -8.44139414e+01, -8.97563958e+01, -8.57495550e+01, -3.62936232e+01,\n",
       "        1.54402860e+01, -4.09871002e+01, -8.72917076e+00,  1.06983990e+01,\n",
       "        2.26146707e+01, -4.60213254e+01, -3.77593936e+01, -8.40301017e+01,\n",
       "       -2.34209204e+01, -3.85578745e+01, -9.39642492e+01, -2.14873186e+01,\n",
       "        2.13664794e+01, -3.02356886e+01, -1.66157278e+01, -6.40259953e-01,\n",
       "       -8.76004677e+01, -1.99228254e+01, -2.62518048e+01, -6.18175572e+01,\n",
       "       -4.66265544e+01, -3.36147647e+01, -1.44368497e+01,  8.55666242e+00,\n",
       "       -6.77277443e+01, -8.80821073e+01, -8.90324927e+01, -9.02016003e+01,\n",
       "        7.40103361e+00, -5.68152399e+01, -7.96244333e-01, -7.74362620e+01,\n",
       "        1.99340403e+01,  1.51053351e+00, -8.79348076e+01, -6.06496035e+01,\n",
       "       -1.00647844e+01, -7.31313165e+01, -7.25901727e+01, -4.75864021e+01,\n",
       "       -6.84705315e+01, -3.58866473e+01, -3.01018697e+01, -3.49962382e+01,\n",
       "       -3.49962382e+01, -8.50757018e+01,  1.93187148e+01, -2.92087631e+01,\n",
       "       -8.53675630e+01, -1.38427132e+01, -5.54784356e+01, -9.61957982e+00,\n",
       "       -7.57034620e+00, -2.47852272e+01, -2.59798069e+00, -1.71312322e+01,\n",
       "        7.43858005e+00, -3.18282048e+01, -3.56139765e-01,  1.57373644e+01,\n",
       "       -8.47975104e+01,  1.57762695e+01,  1.80393906e+01, -2.06433904e+01,\n",
       "       -2.87633748e+01, -8.67480397e+01, -2.33841186e+01,  1.32393223e+00,\n",
       "       -9.14761733e-01, -5.24418032e+01,  9.68595979e+00,  1.57570786e+01,\n",
       "        2.40094257e+00, -2.87633748e+01, -3.47556064e+01, -3.87647808e+01,\n",
       "        7.10441740e+00,  3.70756498e+00, -4.60552742e+01,  1.46633319e+01,\n",
       "       -3.16696616e+01, -1.31812161e+01, -5.11900628e+01, -4.83523742e+01,\n",
       "       -3.27728286e+01, -3.76573776e+01, -2.62589441e+01,  3.29135164e+00,\n",
       "       -3.55303250e+01, -2.11789285e+01, -2.31449206e+00, -8.38251047e+01,\n",
       "       -8.11169081e+01, -9.42268369e+01, -2.25040479e+01, -8.37095292e+01,\n",
       "       -5.10829191e+01, -1.37802329e+01, -5.60989503e+01,  1.69237675e+01,\n",
       "       -3.34389682e+01, -4.52970195e+01, -3.14346020e+01, -7.01216849e+01,\n",
       "       -3.83192089e+00, -8.66399641e+01, -1.67428524e+01, -7.32403344e+01,\n",
       "        1.95087033e+01, -2.01884267e+01, -7.12392783e+01,  3.96820798e+00,\n",
       "       -1.54072388e+01, -6.05794356e+00, -3.60403904e+01, -1.80402634e+01,\n",
       "       -7.95166915e+01, -1.28859591e+00, -1.91284869e+01, -3.89881787e+01,\n",
       "       -5.59965427e+01,  1.68109736e+01, -7.37839828e+01, -5.50304422e+01,\n",
       "       -1.40643712e+01, -6.79413737e+01,  3.11531623e+00, -2.65373521e+01,\n",
       "       -9.28728275e+01, -1.96101107e+01, -3.05592941e+01, -5.99276921e+01,\n",
       "       -9.03694217e+01, -1.16199959e+01, -3.48093265e+01, -8.02302588e+01,\n",
       "        2.16708678e+01, -2.56469430e+01, -2.05342309e+01, -6.08252002e+01,\n",
       "       -1.96023195e+01, -2.93350576e+01,  1.36639723e+01, -8.67819079e+01,\n",
       "       -5.11900628e+01])"
      ]
     },
     "execution_count": 35,
     "metadata": {},
     "output_type": "execute_result"
    }
   ],
   "source": [
    "y_predict  #Values predicted by model"
   ]
  },
  {
   "cell_type": "code",
   "execution_count": 36,
   "id": "21a62a0e",
   "metadata": {},
   "outputs": [],
   "source": [
    "#model evaluation\n",
    "from sklearn.metrics import r2_score, mean_squared_error,mean_absolute_error\n",
    "r2score=r2_score(Y_test,y_predict)"
   ]
  },
  {
   "cell_type": "code",
   "execution_count": 37,
   "id": "07fc51ed",
   "metadata": {},
   "outputs": [
    {
     "data": {
      "text/plain": [
       "0.16482618414611483"
      ]
     },
     "execution_count": 37,
     "metadata": {},
     "output_type": "execute_result"
    }
   ],
   "source": [
    "r2score"
   ]
  },
  {
   "cell_type": "code",
   "execution_count": 38,
   "id": "2c87a217",
   "metadata": {},
   "outputs": [
    {
     "data": {
      "text/plain": [
       "(425, 1)"
      ]
     },
     "execution_count": 38,
     "metadata": {},
     "output_type": "execute_result"
    }
   ],
   "source": [
    "X_test.shape"
   ]
  },
  {
   "cell_type": "code",
   "execution_count": 39,
   "id": "386d8040",
   "metadata": {},
   "outputs": [
    {
     "data": {
      "text/plain": [
       "0.1580141843971632"
      ]
     },
     "execution_count": 39,
     "metadata": {},
     "output_type": "execute_result"
    }
   ],
   "source": [
    "## Calculate adjusted r2 score\n",
    "adjusted_r2=1-(1-0.16)*(425-1)/(425-1-1)\n",
    "adjusted_r2"
   ]
  },
  {
   "cell_type": "code",
   "execution_count": 40,
   "id": "c73070f4",
   "metadata": {},
   "outputs": [
    {
     "name": "stdout",
     "output_type": "stream",
     "text": [
      "3779.139643482795\n",
      "61.474707347679136\n"
     ]
    }
   ],
   "source": [
    "import math\n",
    "print(mean_squared_error(Y_test,y_predict))\n",
    "print(math.sqrt(mean_squared_error(Y_test,y_predict)))  #root mean squared error"
   ]
  },
  {
   "cell_type": "code",
   "execution_count": 41,
   "id": "bbfca8ba",
   "metadata": {},
   "outputs": [
    {
     "name": "stdout",
     "output_type": "stream",
     "text": [
      "45.8333705887265\n"
     ]
    }
   ],
   "source": [
    "print(mean_absolute_error(Y_test,y_predict))"
   ]
  },
  {
   "cell_type": "markdown",
   "id": "2dc07826",
   "metadata": {},
   "source": [
    "# Random Forest "
   ]
  },
  {
   "cell_type": "code",
   "execution_count": 42,
   "id": "33f4728d",
   "metadata": {},
   "outputs": [
    {
     "data": {
      "text/html": [
       "<style>#sk-container-id-1 {color: black;background-color: white;}#sk-container-id-1 pre{padding: 0;}#sk-container-id-1 div.sk-toggleable {background-color: white;}#sk-container-id-1 label.sk-toggleable__label {cursor: pointer;display: block;width: 100%;margin-bottom: 0;padding: 0.3em;box-sizing: border-box;text-align: center;}#sk-container-id-1 label.sk-toggleable__label-arrow:before {content: \"▸\";float: left;margin-right: 0.25em;color: #696969;}#sk-container-id-1 label.sk-toggleable__label-arrow:hover:before {color: black;}#sk-container-id-1 div.sk-estimator:hover label.sk-toggleable__label-arrow:before {color: black;}#sk-container-id-1 div.sk-toggleable__content {max-height: 0;max-width: 0;overflow: hidden;text-align: left;background-color: #f0f8ff;}#sk-container-id-1 div.sk-toggleable__content pre {margin: 0.2em;color: black;border-radius: 0.25em;background-color: #f0f8ff;}#sk-container-id-1 input.sk-toggleable__control:checked~div.sk-toggleable__content {max-height: 200px;max-width: 100%;overflow: auto;}#sk-container-id-1 input.sk-toggleable__control:checked~label.sk-toggleable__label-arrow:before {content: \"▾\";}#sk-container-id-1 div.sk-estimator input.sk-toggleable__control:checked~label.sk-toggleable__label {background-color: #d4ebff;}#sk-container-id-1 div.sk-label input.sk-toggleable__control:checked~label.sk-toggleable__label {background-color: #d4ebff;}#sk-container-id-1 input.sk-hidden--visually {border: 0;clip: rect(1px 1px 1px 1px);clip: rect(1px, 1px, 1px, 1px);height: 1px;margin: -1px;overflow: hidden;padding: 0;position: absolute;width: 1px;}#sk-container-id-1 div.sk-estimator {font-family: monospace;background-color: #f0f8ff;border: 1px dotted black;border-radius: 0.25em;box-sizing: border-box;margin-bottom: 0.5em;}#sk-container-id-1 div.sk-estimator:hover {background-color: #d4ebff;}#sk-container-id-1 div.sk-parallel-item::after {content: \"\";width: 100%;border-bottom: 1px solid gray;flex-grow: 1;}#sk-container-id-1 div.sk-label:hover label.sk-toggleable__label {background-color: #d4ebff;}#sk-container-id-1 div.sk-serial::before {content: \"\";position: absolute;border-left: 1px solid gray;box-sizing: border-box;top: 0;bottom: 0;left: 50%;z-index: 0;}#sk-container-id-1 div.sk-serial {display: flex;flex-direction: column;align-items: center;background-color: white;padding-right: 0.2em;padding-left: 0.2em;position: relative;}#sk-container-id-1 div.sk-item {position: relative;z-index: 1;}#sk-container-id-1 div.sk-parallel {display: flex;align-items: stretch;justify-content: center;background-color: white;position: relative;}#sk-container-id-1 div.sk-item::before, #sk-container-id-1 div.sk-parallel-item::before {content: \"\";position: absolute;border-left: 1px solid gray;box-sizing: border-box;top: 0;bottom: 0;left: 50%;z-index: -1;}#sk-container-id-1 div.sk-parallel-item {display: flex;flex-direction: column;z-index: 1;position: relative;background-color: white;}#sk-container-id-1 div.sk-parallel-item:first-child::after {align-self: flex-end;width: 50%;}#sk-container-id-1 div.sk-parallel-item:last-child::after {align-self: flex-start;width: 50%;}#sk-container-id-1 div.sk-parallel-item:only-child::after {width: 0;}#sk-container-id-1 div.sk-dashed-wrapped {border: 1px dashed gray;margin: 0 0.4em 0.5em 0.4em;box-sizing: border-box;padding-bottom: 0.4em;background-color: white;}#sk-container-id-1 div.sk-label label {font-family: monospace;font-weight: bold;display: inline-block;line-height: 1.2em;}#sk-container-id-1 div.sk-label-container {text-align: center;}#sk-container-id-1 div.sk-container {/* jupyter's `normalize.less` sets `[hidden] { display: none; }` but bootstrap.min.css set `[hidden] { display: none !important; }` so we also need the `!important` here to be able to override the default hidden behavior on the sphinx rendered scikit-learn.org. See: https://github.com/scikit-learn/scikit-learn/issues/21755 */display: inline-block !important;position: relative;}#sk-container-id-1 div.sk-text-repr-fallback {display: none;}</style><div id=\"sk-container-id-1\" class=\"sk-top-container\"><div class=\"sk-text-repr-fallback\"><pre>RandomForestRegressor()</pre><b>In a Jupyter environment, please rerun this cell to show the HTML representation or trust the notebook. <br />On GitHub, the HTML representation is unable to render, please try loading this page with nbviewer.org.</b></div><div class=\"sk-container\" hidden><div class=\"sk-item\"><div class=\"sk-estimator sk-toggleable\"><input class=\"sk-toggleable__control sk-hidden--visually\" id=\"sk-estimator-id-1\" type=\"checkbox\" checked><label for=\"sk-estimator-id-1\" class=\"sk-toggleable__label sk-toggleable__label-arrow\">RandomForestRegressor</label><div class=\"sk-toggleable__content\"><pre>RandomForestRegressor()</pre></div></div></div></div></div>"
      ],
      "text/plain": [
       "RandomForestRegressor()"
      ]
     },
     "execution_count": 42,
     "metadata": {},
     "output_type": "execute_result"
    }
   ],
   "source": [
    "from sklearn.ensemble import RandomForestRegressor\n",
    "\n",
    "rf_reg = RandomForestRegressor(n_estimators=100)\n",
    "rf_reg.fit(X_train,Y_train)"
   ]
  },
  {
   "cell_type": "code",
   "execution_count": 43,
   "id": "710a0c48",
   "metadata": {},
   "outputs": [],
   "source": [
    "y_predictRF=rf_reg.predict(X_test)"
   ]
  },
  {
   "cell_type": "code",
   "execution_count": 44,
   "id": "0dddbdad",
   "metadata": {},
   "outputs": [
    {
     "data": {
      "text/plain": [
       "array([ -90.52080742,  -49.8232819 ,  -54.27680587,   94.68667956,\n",
       "        -25.07182086,   81.83076594,  -67.83008943, -101.9269002 ,\n",
       "         93.17837251,  -40.33393083,  -97.73131611,  122.94227062,\n",
       "         34.41068608,  -77.3599774 ,  -43.82619065,  -70.07895904,\n",
       "        -91.17285312,  -32.44613798,   26.18477477,   85.15523767,\n",
       "        -69.20789454,  -83.4263907 ,  -70.28127416,  -45.30434571,\n",
       "          1.69828139,  -90.52080742, -100.3375583 ,  -62.92738815,\n",
       "         22.09285641,  -36.11344948,  -90.84727157,  -41.10571771,\n",
       "        -65.46254147,  -85.76919247,  -65.55495297,  -36.50838185,\n",
       "        -22.17718263,  -48.36951477,   45.64294134,  -57.92875199,\n",
       "        -49.24829083,  -27.69271812,  -13.93327294,  -95.56480862,\n",
       "        -84.33986007,  -78.428907  ,  -47.00192833,  -95.56480862,\n",
       "        -92.20929218,  -40.58233104,  -53.22839784,  -65.19860627,\n",
       "        -41.69312388,   98.19670658,   60.24231443, -104.68347862,\n",
       "        -44.53723748,  -80.67433357,  -65.93469248,  -68.41008303,\n",
       "        -57.92875199,  -41.54357175,  -40.71165826,   -6.11236538,\n",
       "       -113.29833741,  -53.67057176,  -94.81784288,   10.29930571,\n",
       "        -86.39093695,   61.52520544,  -38.3235238 ,  -12.34859571,\n",
       "        122.95439032,  -49.9906817 ,  -72.07712503,   83.90027518,\n",
       "        -52.06400178,  122.94227062,   -6.66448336,  -84.39277826,\n",
       "        -26.07508243,  -86.2782511 ,  -90.77307931,  -60.56864225,\n",
       "        -36.21157353,  -77.70661463,  -90.60867419,  -93.33982771,\n",
       "        -11.31765327,  -38.2758541 ,  -39.53621454,  -69.02632185,\n",
       "        -48.36951477, -111.49043129,  103.01446046,  -10.40586498,\n",
       "         31.33856275,   20.17276071,  -71.61976144,  -56.43175126,\n",
       "        -86.49554288,  -43.61077007,  -76.99854922,  -77.02631765,\n",
       "        -88.46930009,   76.42737296,  -88.9012975 ,  -88.00500486,\n",
       "        -33.5338328 ,  -39.44784481,  -86.49554288,   23.86254779,\n",
       "        -28.66123949,   -0.5058884 ,  -85.31543083,  -40.71141176,\n",
       "        -78.428907  ,  -77.75601224,  -96.12081148,  -87.65735793,\n",
       "        -82.51158734,  -62.4726049 ,   50.2985213 ,  -27.69271812,\n",
       "         98.21181171,  103.01446046,  -70.51658334,   94.51969798,\n",
       "         81.63432263,  -13.33912784,  -15.48603858,  -46.20603861,\n",
       "        -80.67312286,  -90.91480895,  -97.63016583,  -53.30709577,\n",
       "        -61.4136349 ,   -6.81532748,  -49.70810446,  -50.48231898,\n",
       "        -33.52420174,  -38.22227471,  -81.34497611,  -76.86336325,\n",
       "        -78.94187546,  -50.48231898,   81.59635209,  -24.37269958,\n",
       "       -102.8317063 ,  -44.43305989, -113.29833741,  -54.10055683,\n",
       "         94.65305423,  -88.70900287,   -8.37864842,  -36.85628346,\n",
       "        -73.03151456,  -60.4264832 ,  -31.03606599,  -38.35343081,\n",
       "        -62.0838623 ,  132.29440118,  -41.19319377,   49.47854326,\n",
       "        -47.23154565, -120.05466353,  -87.15993534,   36.88243028,\n",
       "        101.67978905,  125.1411631 ,  -67.83008943,   81.75542303,\n",
       "         36.748854  ,   40.74389586,  -81.89256681,  -70.77332302,\n",
       "        -40.71165826,  -85.15377256,  -38.53021818,  -27.20768971,\n",
       "        -41.42465679,  -88.70900287,  -85.89864223,  -78.428907  ,\n",
       "        -96.12081148,  -57.6919719 ,   77.70943889,  -77.70661463,\n",
       "        -52.9075116 ,  -58.4889658 ,  -36.30305707,  -32.44613798,\n",
       "         -8.37864842,   83.41165196,  -70.31667976,  -33.52420174,\n",
       "        -50.33272478,  -74.8752756 ,   94.69867956,  -38.16338921,\n",
       "        -42.80517455,  -54.86030308,  103.01446046,  -41.14336037,\n",
       "        -31.37527686,  -98.06563047,  -31.6916929 ,   75.88263137,\n",
       "        -11.61311032,  -29.40273814,  -88.34984497,  -64.38728843,\n",
       "        -63.55235283,  -94.26615124,   86.66842141,  -76.62090152,\n",
       "        -24.83958248,  -68.14153249,   49.14690462,  -48.61841207,\n",
       "        100.33481534,  -66.03579844,  -34.50268616,  124.70789188,\n",
       "        -85.37119363,  -19.83338904,  -88.86652724,   36.72166507,\n",
       "        -37.19335358,  -93.40610936,   19.75455887, -103.44307925,\n",
       "        -85.67782732,  -41.14336037,  -91.45308542,  -95.30508473,\n",
       "        -44.52998458,  -62.79599471,  -60.24063097,  -43.7047839 ,\n",
       "       -101.11723541,  -86.33072737,  -70.30758283,  -34.82460389,\n",
       "        -86.78645171,  -96.45897826,  -46.09119656, -100.38308795,\n",
       "        -86.7712984 ,  -61.4136349 ,  -41.10571771,  -45.26551028,\n",
       "        -83.40362585,  -72.16587822,  -19.20952226,   82.82937115,\n",
       "        -69.02632185,  -78.67714546, -110.60443894,   83.40252495,\n",
       "        -26.76198926,  -96.12081148, -104.85094686,  -67.83008943,\n",
       "         -9.35822722,  -97.24281908,   58.68764505,  -73.46334692,\n",
       "        -74.08102309,  -90.84727157,  105.45311893,  -66.83587616,\n",
       "        -90.9981563 ,  -32.72716802,   36.72166507,   45.44623182,\n",
       "        -57.6919719 ,  -27.69271812,  -24.83958248,  -80.48782023,\n",
       "         80.95759059,  -77.75601224,   -8.38088438,   45.12776115,\n",
       "         85.35721819,  -70.51782881,  -67.83008943,   -6.89963334,\n",
       "        -92.80779198,  -86.39093695, -122.46536825,  -58.45874251,\n",
       "         85.53472632,  -94.06777049,  -38.22227471,   16.69587916,\n",
       "        -90.32473449,  -87.88283511,  -70.2342032 ,  -45.81451272,\n",
       "        -60.56864225,  -71.51375397,  -54.81259415,   43.20339263,\n",
       "        -30.95989829, -103.49075306,  -32.22876757,  103.01446046,\n",
       "         37.15223675,  -39.6701067 ,  -56.65106005,  -52.77709806,\n",
       "         66.53235175,    3.29595008,  -89.52719142,  -45.69023781,\n",
       "        -60.4264832 ,  -36.30305707,  -32.15024017,  -50.49294265,\n",
       "        -22.69444871,  -77.93061235,  -92.20929218,  -84.33986007,\n",
       "        -84.33986007,  -75.34831804,  125.1411631 ,  -80.97621689,\n",
       "        -85.68902085,  -63.55235283,  -46.09119656,  -68.14153249,\n",
       "        -33.5252274 ,  -93.22060252,  -26.11457309,  -66.01659556,\n",
       "         36.748854  ,  -81.35851362,  -35.49750107,   67.89568327,\n",
       "        -69.54922648,   60.24231443,   94.69867956,  -78.428907  ,\n",
       "        -89.05459963,  -74.22249168,  -88.04592792,  -12.23914933,\n",
       "        -24.37269958,  -36.85628346,   67.33387159,   94.51969798,\n",
       "         -0.5058884 ,  -89.05459963,  -74.75284582,  -81.71733268,\n",
       "         86.20696423,   -6.11236538,  -68.39735499,   81.83076594,\n",
       "        -76.99854922,  -62.01624465,  -57.5741289 ,  -50.48231898,\n",
       "        -87.53261121,  -77.63547267,  -66.04234769,   10.29930571,\n",
       "        -87.07342084,  -77.3599774 ,   11.26083767,  -86.2782511 ,\n",
       "        -73.47587275, -121.82438359,  -66.03579844,  -95.45088415,\n",
       "        -57.5741289 ,  -59.66173346,  -39.61242398,   72.36101475,\n",
       "        -62.22491477,  -67.11692613,  -94.81784288,  -21.78405913,\n",
       "        -35.74894811,  -78.67714546,  -70.10915434,  -37.09141783,\n",
       "         94.65305423,  -87.9623097 ,  -44.51311877,  -14.786227  ,\n",
       "        -63.92770795,  -41.10571771,  -78.14403023,  -70.30758283,\n",
       "        -39.89355597,   14.26995133,  -45.82615862,  -84.87008862,\n",
       "        -32.76854441,   97.24986704,  -37.43823305,  -37.8024819 ,\n",
       "        -38.99694841,  -21.59641623,   -3.28875612,  -82.25267244,\n",
       "       -118.45957014, -100.38308795,  -82.21134512,  -45.14241934,\n",
       "        -62.36359913,  -41.19319377,  -88.46930009,  -72.02702818,\n",
       "         95.06513019,  -92.78295498,  -75.57312985,  -43.89427143,\n",
       "       -100.38308795, -106.15603345,   42.4879897 ,  -25.57642342,\n",
       "        -57.5741289 ])"
      ]
     },
     "execution_count": 44,
     "metadata": {},
     "output_type": "execute_result"
    }
   ],
   "source": [
    "y_predictRF"
   ]
  },
  {
   "cell_type": "code",
   "execution_count": 45,
   "id": "7c6734da",
   "metadata": {},
   "outputs": [],
   "source": [
    "# Model Evaluation\n",
    "from sklearn.metrics import r2_score, mean_squared_error,mean_absolute_error\n",
    "r2score_RF=r2_score(Y_test,y_predictRF)"
   ]
  },
  {
   "cell_type": "code",
   "execution_count": 46,
   "id": "a244cc70",
   "metadata": {},
   "outputs": [
    {
     "data": {
      "text/plain": [
       "0.6799230474078499"
      ]
     },
     "execution_count": 46,
     "metadata": {},
     "output_type": "execute_result"
    }
   ],
   "source": [
    "r2score_RF"
   ]
  },
  {
   "cell_type": "code",
   "execution_count": 47,
   "id": "ffeed3c5",
   "metadata": {},
   "outputs": [
    {
     "data": {
      "text/plain": [
       "(425, 1)"
      ]
     },
     "execution_count": 47,
     "metadata": {},
     "output_type": "execute_result"
    }
   ],
   "source": [
    "X_test.shape"
   ]
  },
  {
   "cell_type": "code",
   "execution_count": 48,
   "id": "f791dd2a",
   "metadata": {},
   "outputs": [
    {
     "data": {
      "text/plain": [
       "0.9899976905311778"
      ]
     },
     "execution_count": 48,
     "metadata": {},
     "output_type": "execute_result"
    }
   ],
   "source": [
    "## Calculate adjusted r2 score\n",
    "adjusted_r2_RF=1-(1-0.99)*(4345-14)/(4345-14-1)\n",
    "adjusted_r2_RF"
   ]
  },
  {
   "cell_type": "code",
   "execution_count": 49,
   "id": "5786b5f7",
   "metadata": {},
   "outputs": [
    {
     "name": "stdout",
     "output_type": "stream",
     "text": [
      "1448.3398276434723\n",
      "38.05706015502869\n"
     ]
    }
   ],
   "source": [
    "import math\n",
    "print(mean_squared_error(Y_test,y_predictRF))\n",
    "print(math.sqrt(mean_squared_error(Y_test,y_predictRF)))  #root mean squared error"
   ]
  },
  {
   "cell_type": "code",
   "execution_count": 50,
   "id": "e2044878",
   "metadata": {},
   "outputs": [
    {
     "name": "stdout",
     "output_type": "stream",
     "text": [
      "19.046374195432897\n"
     ]
    }
   ],
   "source": [
    "print(mean_absolute_error(Y_test,y_predictRF))"
   ]
  },
  {
   "cell_type": "code",
   "execution_count": 83,
   "id": "a3ee6645",
   "metadata": {},
   "outputs": [
    {
     "name": "stdout",
     "output_type": "stream",
     "text": [
      "Fitting 3 folds for each of 100 candidates, totalling 300 fits\n",
      "Best paramters: {'n_estimators': 2000, 'min_samples_split': 2, 'min_samples_leaf': 1, 'max_features': 'sqrt', 'max_depth': None})\n"
     ]
    }
   ],
   "source": [
    "# Hyperparameter Tunning\n",
    "from sklearn.model_selection import RandomizedSearchCV\n",
    "\n",
    "n_estimators = [int(x) for x in np.linspace(start=200, stop=2000, num=10)]\n",
    "max_features = ['auto', 'sqrt']\n",
    "max_depth = [int(x) for x in np.linspace(10, 110, num=11)]\n",
    "max_depth.append(None)\n",
    "min_samples_split = [2, 5, 10]\n",
    "min_samples_leaf = [1, 2, 4]\n",
    "\n",
    "\n",
    "random_grid = {'n_estimators': n_estimators, 'max_features': max_features,\n",
    "               'max_depth': max_depth, 'min_samples_split': min_samples_split,\n",
    "               'min_samples_leaf': min_samples_leaf}\n",
    "\n",
    "rf_reg1 = RandomForestRegressor(random_state=42)\n",
    "\n",
    "rf_cv = RandomizedSearchCV(estimator=rf_reg1, scoring='f1',param_distributions=random_grid, n_iter=100, cv=3, \n",
    "                               verbose=3, random_state=42, n_jobs=-1)\n",
    "\n",
    "rf_cv.fit(X_train, Y_train)\n",
    "rf_best_params = rf_cv.best_params_\n",
    "print(f\"Best paramters: {rf_best_params})\")"
   ]
  },
  {
   "cell_type": "code",
   "execution_count": 87,
   "id": "35a8cdc3",
   "metadata": {},
   "outputs": [
    {
     "data": {
      "text/plain": [
       "array([-8.89338004e+01, -5.00946822e+01, -5.45291470e+01,  9.74780629e+01,\n",
       "       -2.30908998e+01,  8.28257956e+01, -6.81573969e+01, -1.02651845e+02,\n",
       "        9.16714243e+01, -4.02838440e+01, -9.74893855e+01,  1.23074070e+02,\n",
       "        3.02420443e+01, -7.72016789e+01, -4.40264718e+01, -6.85385677e+01,\n",
       "       -9.18994003e+01, -3.18550551e+01,  2.56054524e+01,  8.45837367e+01,\n",
       "       -6.97005463e+01, -8.04203197e+01, -6.96828462e+01, -4.55430983e+01,\n",
       "        6.58705793e+00, -8.89338004e+01, -9.76308958e+01, -6.20526687e+01,\n",
       "        2.05982592e+01, -3.71778502e+01, -9.16094719e+01, -4.00464865e+01,\n",
       "       -6.54524692e+01, -8.63966292e+01, -6.74112512e+01, -3.61904481e+01,\n",
       "       -2.15717282e+01, -4.86031949e+01,  4.57601268e+01, -5.84278587e+01,\n",
       "       -5.04718876e+01, -2.12628315e+01, -1.65372333e+01, -9.64703776e+01,\n",
       "       -8.57837652e+01, -7.87427790e+01, -5.36969061e+01, -9.64703776e+01,\n",
       "       -9.32417795e+01, -4.06220335e+01, -5.32518255e+01, -6.37976072e+01,\n",
       "       -3.90517539e+01,  9.90485916e+01,  6.24342989e+01, -1.04876343e+02,\n",
       "       -4.47458881e+01, -8.08142656e+01, -6.64285575e+01, -6.71806175e+01,\n",
       "       -5.84278587e+01, -4.19083279e+01, -4.11528344e+01, -1.93301220e+00,\n",
       "       -1.15130433e+02, -5.32472226e+01, -9.48561687e+01,  1.00584909e+01,\n",
       "       -8.43436950e+01,  5.98876330e+01, -3.77131412e+01, -1.26813082e+01,\n",
       "        1.23024478e+02, -5.02821556e+01, -7.08282214e+01,  8.49068347e+01,\n",
       "       -4.99018677e+01,  1.23074070e+02, -4.88386390e+00, -8.26324495e+01,\n",
       "       -2.63054641e+01, -8.51120396e+01, -9.11709884e+01, -6.04508547e+01,\n",
       "       -3.69301153e+01, -8.04153359e+01, -9.02513032e+01, -9.13393403e+01,\n",
       "       -1.19750606e+01, -3.80322696e+01, -4.18710553e+01, -6.69401256e+01,\n",
       "       -4.86031949e+01, -1.09701045e+02,  9.79002313e+01, -9.28704036e+00,\n",
       "        3.93856578e+01,  1.99687846e+01, -7.21678957e+01, -5.53491066e+01,\n",
       "       -8.65018728e+01, -4.47653643e+01, -7.75644143e+01, -8.06993745e+01,\n",
       "       -8.80199339e+01,  7.75262104e+01, -9.20125288e+01, -8.89389411e+01,\n",
       "       -3.04379396e+01, -4.05718865e+01, -8.65018728e+01,  2.39497007e+01,\n",
       "       -2.47560210e+01,  1.42621308e+00, -8.59419228e+01, -4.06624891e+01,\n",
       "       -7.87427790e+01, -7.72871207e+01, -9.54104824e+01, -8.52158264e+01,\n",
       "       -8.74601874e+01, -6.17694773e+01,  4.73358264e+01, -2.12628315e+01,\n",
       "        9.90403397e+01,  9.79002313e+01, -7.05895760e+01,  9.48667189e+01,\n",
       "        7.93290731e+01, -1.32306077e+01, -2.52413235e+01, -4.34176512e+01,\n",
       "       -8.12722229e+01, -9.00326149e+01, -9.75698513e+01, -5.36945576e+01,\n",
       "       -6.10641142e+01, -5.13859495e+00, -4.56792694e+01, -5.04635851e+01,\n",
       "       -3.25276854e+01, -3.70357555e+01, -8.11994682e+01, -7.80724297e+01,\n",
       "       -8.27635151e+01, -5.04635851e+01,  8.34520827e+01, -2.32525412e+01,\n",
       "       -1.03610602e+02, -4.46294100e+01, -1.15130433e+02, -5.40602223e+01,\n",
       "        9.25703742e+01, -8.85348819e+01, -7.71845801e+00, -3.69437084e+01,\n",
       "       -7.34335001e+01, -6.06103361e+01, -3.33526488e+01, -3.72294051e+01,\n",
       "       -6.09775198e+01,  1.31968569e+02, -4.00752927e+01,  4.82163505e+01,\n",
       "       -4.71519044e+01, -1.20234913e+02, -8.61381330e+01,  3.65160253e+01,\n",
       "        9.86971792e+01,  1.23819683e+02, -6.81573969e+01,  8.19592295e+01,\n",
       "        3.69619412e+01,  4.07556385e+01, -8.07030551e+01, -7.23007433e+01,\n",
       "       -4.11528344e+01, -8.38311930e+01, -3.87744338e+01, -2.59479528e+01,\n",
       "       -4.14034275e+01, -8.85348819e+01, -8.69071325e+01, -7.87427790e+01,\n",
       "       -9.54104824e+01, -5.81804818e+01,  7.71854630e+01, -8.04153359e+01,\n",
       "       -5.20824606e+01, -5.81841848e+01, -3.68993831e+01, -3.18550551e+01,\n",
       "       -7.71845801e+00,  7.81496733e+01, -7.12051116e+01, -3.25640616e+01,\n",
       "       -5.09400067e+01, -7.51732417e+01,  9.74801129e+01, -3.65215325e+01,\n",
       "       -4.36164325e+01, -5.53006732e+01,  9.79002313e+01, -4.11553732e+01,\n",
       "       -3.15027371e+01, -9.72037606e+01, -3.29952789e+01,  7.74400280e+01,\n",
       "       -1.73570759e+01, -2.93025971e+01, -8.77819749e+01, -6.72004913e+01,\n",
       "       -6.32532035e+01, -9.44441684e+01,  8.60567219e+01, -7.66990400e+01,\n",
       "       -2.32449308e+01, -6.93295593e+01,  4.95973020e+01, -4.79254617e+01,\n",
       "        1.00084025e+02, -6.51485190e+01, -3.41772990e+01,  1.23500251e+02,\n",
       "       -8.40114500e+01, -1.61796332e+01, -8.99284643e+01,  2.96821136e+01,\n",
       "       -3.68653867e+01, -9.50024320e+01,  2.33221689e+01, -1.03628179e+02,\n",
       "       -8.58393658e+01, -4.11553732e+01, -9.08551818e+01, -9.39892606e+01,\n",
       "       -4.51620380e+01, -6.25768404e+01, -6.08861426e+01, -4.36950002e+01,\n",
       "       -1.00017450e+02, -8.58858875e+01, -7.02006960e+01, -3.47103403e+01,\n",
       "       -8.69531959e+01, -9.72201717e+01, -4.37233090e+01, -1.00654884e+02,\n",
       "       -8.60358554e+01, -6.10641142e+01, -4.00464865e+01, -4.62325598e+01,\n",
       "       -8.29871972e+01, -6.94361389e+01, -1.94151775e+01,  8.28593496e+01,\n",
       "       -6.69401256e+01, -7.79667081e+01, -1.11605373e+02,  8.48303686e+01,\n",
       "       -2.72693215e+01, -9.54104824e+01, -1.02971247e+02, -6.81573969e+01,\n",
       "       -8.42163313e+00, -9.89100021e+01,  6.04925962e+01, -7.38321757e+01,\n",
       "       -7.24494206e+01, -9.16094719e+01,  1.04833665e+02, -6.39633266e+01,\n",
       "       -9.16328588e+01, -2.37717268e+01,  2.96821136e+01,  4.65714350e+01,\n",
       "       -5.81804818e+01, -2.12628315e+01, -2.32449308e+01, -8.04039937e+01,\n",
       "        8.45629726e+01, -7.72871207e+01, -8.22035887e+00,  4.98368981e+01,\n",
       "        8.63441300e+01, -6.98948504e+01, -6.81573969e+01, -5.83238289e-02,\n",
       "       -9.33800167e+01, -8.43436950e+01, -1.22026593e+02, -5.80848814e+01,\n",
       "        8.42342777e+01, -9.53551629e+01, -3.70357555e+01,  2.36792962e+01,\n",
       "       -9.04588679e+01, -8.78272516e+01, -6.95594007e+01, -4.58052099e+01,\n",
       "       -6.04508547e+01, -7.02934106e+01, -5.44724181e+01,  4.22941389e+01,\n",
       "       -3.20705169e+01, -1.04400053e+02, -4.98349746e+01,  9.79002313e+01,\n",
       "        3.73124173e+01, -3.96877474e+01, -5.51632960e+01, -5.27383391e+01,\n",
       "        6.79628143e+01,  3.42703992e+00, -8.87496936e+01, -4.59780669e+01,\n",
       "       -6.06103361e+01, -3.68993831e+01, -3.29441752e+01, -4.99290844e+01,\n",
       "       -2.37083591e+01, -7.75639781e+01, -9.32417795e+01, -8.57837652e+01,\n",
       "       -8.57837652e+01, -7.66911869e+01,  1.23819683e+02, -8.19721348e+01,\n",
       "       -8.51453115e+01, -6.32532035e+01, -4.37233090e+01, -6.93295593e+01,\n",
       "       -3.53865603e+01, -9.38110303e+01, -2.46129759e+01, -6.49375236e+01,\n",
       "        3.69619412e+01, -8.18351639e+01, -3.29085603e+01,  6.69758896e+01,\n",
       "       -6.79200062e+01,  6.24342989e+01,  9.74801129e+01, -7.87494054e+01,\n",
       "       -9.01462486e+01, -7.45634545e+01, -8.69812619e+01, -8.89261082e+00,\n",
       "       -2.41698362e+01, -3.69437084e+01,  7.03086824e+01,  9.48667189e+01,\n",
       "        1.42621308e+00, -9.01462486e+01, -7.48045259e+01, -8.48948286e+01,\n",
       "        8.66994006e+01, -3.18844381e+00, -6.76493230e+01,  8.27183363e+01,\n",
       "       -7.75644143e+01, -6.18993252e+01, -5.74610222e+01, -5.04635851e+01,\n",
       "       -8.76432444e+01, -7.73623566e+01, -6.57155561e+01,  1.00584909e+01,\n",
       "       -8.65045119e+01, -7.72016789e+01,  1.15443881e+01, -8.51120396e+01,\n",
       "       -7.52489596e+01, -1.22233064e+02, -6.51485190e+01, -9.64328541e+01,\n",
       "       -5.74610222e+01, -5.88722298e+01, -3.96997937e+01,  7.09322758e+01,\n",
       "       -6.11374211e+01, -6.66396541e+01, -9.48561687e+01, -2.33419227e+01,\n",
       "       -3.46603235e+01, -7.79667081e+01, -7.04939380e+01, -3.75672998e+01,\n",
       "        9.25703742e+01, -8.72956028e+01, -4.52680112e+01, -1.35675132e+01,\n",
       "       -6.46910245e+01, -4.00464865e+01, -7.82635285e+01, -7.02006960e+01,\n",
       "       -3.63487150e+01,  1.32276919e+01, -4.56830694e+01, -8.51205352e+01,\n",
       "       -3.34464816e+01,  9.86809420e+01, -3.78298091e+01, -3.78962190e+01,\n",
       "       -3.80271127e+01, -2.15689215e+01, -4.82788011e+00, -8.34345465e+01,\n",
       "       -1.20625331e+02, -1.00654884e+02, -8.20366608e+01, -4.59178792e+01,\n",
       "       -4.80051372e+01, -4.00752927e+01, -8.80199339e+01, -7.63735903e+01,\n",
       "        9.51814668e+01, -9.24266217e+01, -7.55770397e+01, -4.39726467e+01,\n",
       "       -1.00654884e+02, -1.06146673e+02,  4.49583606e+01, -2.75369952e+01,\n",
       "       -5.74610222e+01])"
      ]
     },
     "execution_count": 87,
     "metadata": {},
     "output_type": "execute_result"
    }
   ],
   "source": [
    "rf_reg2 = RandomForestRegressor(**rf_best_params)\n",
    "rf_reg2.fit(X_train, Y_train)\n",
    "y_predict_rf=rf_reg2.predict(X_test)\n",
    "y_predict_rf"
   ]
  },
  {
   "cell_type": "code",
   "execution_count": 88,
   "id": "a5c248ca",
   "metadata": {},
   "outputs": [
    {
     "data": {
      "text/plain": [
       "0.684156782494769"
      ]
     },
     "execution_count": 88,
     "metadata": {},
     "output_type": "execute_result"
    }
   ],
   "source": [
    "#Model evaluation after Hyperparameter tuning\n",
    "from sklearn.metrics import r2_score, mean_squared_error,mean_absolute_error\n",
    "r2score_rf=r2_score(Y_test,y_predict_rf)\n",
    "r2score_rf"
   ]
  },
  {
   "cell_type": "code",
   "execution_count": 89,
   "id": "7efa6dbb",
   "metadata": {},
   "outputs": [
    {
     "data": {
      "text/plain": [
       "0.679243498817967"
      ]
     },
     "execution_count": 89,
     "metadata": {},
     "output_type": "execute_result"
    }
   ],
   "source": [
    "## Calculate adjusted r2 score\n",
    "adjusted_r2_rf=1-(1-0.68)*(425-1)/(425-1-1)\n",
    "adjusted_r2_rf"
   ]
  },
  {
   "cell_type": "code",
   "execution_count": 90,
   "id": "5df14362",
   "metadata": {},
   "outputs": [
    {
     "name": "stdout",
     "output_type": "stream",
     "text": [
      "1429.1822872569585\n",
      "37.804527338097465\n"
     ]
    }
   ],
   "source": [
    "import math\n",
    "print(mean_squared_error(Y_test,y_predict_rf))\n",
    "print(math.sqrt(mean_squared_error(Y_test,y_predict_rf)))  #root mean squared error"
   ]
  },
  {
   "cell_type": "code",
   "execution_count": 91,
   "id": "c3eb1e28",
   "metadata": {},
   "outputs": [
    {
     "name": "stdout",
     "output_type": "stream",
     "text": [
      "19.027531550312638\n"
     ]
    }
   ],
   "source": [
    "print(mean_absolute_error(Y_test,y_predict_rf))"
   ]
  },
  {
   "cell_type": "markdown",
   "id": "93aaa0ed",
   "metadata": {},
   "source": [
    "# KNN Model"
   ]
  },
  {
   "cell_type": "code",
   "execution_count": 92,
   "id": "3c4e01c8",
   "metadata": {},
   "outputs": [],
   "source": [
    "from sklearn.neighbors import KNeighborsRegressor#USING KNN\n",
    "KNN1=KNeighborsRegressor() ## model object creation\n",
    "KNN1.fit(X_train,Y_train)  ## fitting the model\n",
    "y_hat_knn=KNN1.predict(X_test) ## getting the predict from created model"
   ]
  },
  {
   "cell_type": "code",
   "execution_count": 54,
   "id": "b17d2622",
   "metadata": {},
   "outputs": [
    {
     "data": {
      "text/plain": [
       "array([-8.65378193e+01, -4.89958999e+01, -4.89372241e+01,  9.01162503e+01,\n",
       "       -1.04009139e+01,  8.69699770e+01, -8.18605600e+01, -9.09343713e+01,\n",
       "        9.81491355e+01, -3.62079763e+01, -1.00980990e+02,  9.57646986e+01,\n",
       "        3.50953788e+01, -8.79806643e+01, -4.64100776e+01, -7.63452948e+01,\n",
       "       -1.10544035e+02, -3.67368749e+01,  3.08434760e+01,  9.58808836e+01,\n",
       "       -6.62025386e+01, -5.54677821e+01, -6.65269615e+01, -4.36953225e+01,\n",
       "        3.87458484e-01, -8.65378193e+01, -5.83372721e+01, -5.55901502e+01,\n",
       "        3.21229877e+00, -1.26917677e+01, -8.20159019e+01, -3.55282028e+01,\n",
       "       -6.53269615e+01, -8.20159019e+01, -3.83699603e+01, -3.75667670e+01,\n",
       "       -2.92370256e+01, -5.18066490e+01,  4.64532811e+01, -4.67462474e+01,\n",
       "       -5.64192959e+01, -5.57610752e-01, -3.41431664e+01, -9.17193875e+01,\n",
       "       -9.27240304e+01, -7.94654337e+01, -4.27295534e+01, -9.17193875e+01,\n",
       "       -9.55466650e+01, -4.24438406e+01, -5.36531740e+01, -7.51746226e+01,\n",
       "       -5.83191932e+01,  8.97876747e+01,  8.35234292e+01, -1.00406202e+02,\n",
       "       -4.56499618e+01, -8.55302760e+01, -5.84397263e+01, -6.88860351e+01,\n",
       "       -4.67462474e+01, -4.06203203e+01, -4.06203203e+01,  1.24119308e+01,\n",
       "       -9.57373758e+01, -6.10432562e+01, -9.31784288e+01,  4.64233410e+00,\n",
       "       -9.10325394e+01,  6.40450794e+01, -4.41160476e+01,  1.93224901e+00,\n",
       "        9.57646986e+01, -4.36953225e+01, -8.19536706e+01,  8.74077710e+01,\n",
       "       -6.67933435e+01,  9.57646986e+01, -5.58057854e+00, -9.13136551e+01,\n",
       "       -2.06868260e+01, -8.77305653e+01, -9.22459940e+01, -6.62025386e+01,\n",
       "       -3.89035384e+01, -6.39058451e+01, -9.42390713e+01, -5.83372721e+01,\n",
       "       -1.68209212e+01, -3.63765435e+01, -6.55949205e+01, -5.64192959e+01,\n",
       "       -5.18066490e+01, -9.91586383e+01,  1.31000000e+02,  4.64233410e+00,\n",
       "       -5.76524327e+01,  1.12397454e+01, -7.48625191e+01, -5.90793822e+01,\n",
       "       -8.82598969e+01, -3.41431664e+01, -8.11417350e+01, -6.77862628e+01,\n",
       "       -8.34938748e+01,  8.97147152e+01, -7.61782122e+01, -8.39740435e+01,\n",
       "       -5.41535632e+01, -1.95731319e+01, -8.82598969e+01, -2.54293595e+00,\n",
       "        8.58120831e+01, -1.24101009e+01, -8.66458900e+01, -3.54480672e+01,\n",
       "       -7.94654337e+01, -7.76146362e+01, -9.42390713e+01, -7.10834288e+01,\n",
       "       -6.61619202e+01, -7.73454576e+01,  4.64069330e+01, -5.57610752e-01,\n",
       "        8.97876747e+01,  1.31000000e+02, -8.20159019e+01,  9.26000000e+01,\n",
       "        7.12508793e+01, -1.86476004e+01, -3.49883451e+01, -5.57610752e-01,\n",
       "       -7.63844110e+01, -9.45957865e+01, -9.08009440e+01, -4.51816929e+01,\n",
       "       -6.92267442e+01, -3.69906274e+00, -5.39154660e+01, -4.98832008e+01,\n",
       "       -3.06588003e+01, -6.11535489e+01, -9.22349000e+01, -8.33369204e+01,\n",
       "       -7.50348166e+01, -4.98832008e+01,  7.55772034e+01, -1.95288246e+01,\n",
       "       -8.59491419e+01, -4.83120735e+01, -9.57373758e+01, -5.00371749e+01,\n",
       "        1.05958200e+02, -9.13136551e+01,  8.87726653e+00, -4.16710379e+01,\n",
       "       -9.10325394e+01, -5.01962915e+01,  8.46339437e+00, -6.11535489e+01,\n",
       "       -5.36531740e+01,  1.32722627e+02, -3.70337806e+01,  3.91930908e+01,\n",
       "       -3.75667670e+01, -1.16440086e+02, -4.91813750e+01,  3.08434760e+01,\n",
       "        1.16816182e+02,  1.05958200e+02, -8.18605600e+01,  8.69699770e+01,\n",
       "        3.41041661e+01,  1.81299465e+01, -5.64192959e+01, -8.01958775e+01,\n",
       "       -4.06203203e+01, -7.15659402e+01, -4.28912288e+01, -3.32547503e+01,\n",
       "       -3.70337806e+01, -9.13136551e+01, -8.44041277e+01, -7.94654337e+01,\n",
       "       -9.42390713e+01, -2.27250524e+01,  8.74077710e+01, -6.39058451e+01,\n",
       "       -5.39782938e+01, -5.82588533e+01, -3.66281589e+01, -3.67368749e+01,\n",
       "        8.87726653e+00,  3.50953788e+01, -7.51013451e+01, -3.06588003e+01,\n",
       "       -5.92423766e+01, -7.00218422e+01,  9.01162503e+01, -4.18016311e+01,\n",
       "       -3.25532009e+01, -5.65220721e+01,  1.31000000e+02, -3.68852478e+01,\n",
       "       -3.64039171e+01, -9.27240304e+01, -3.45762054e+01,  8.97147152e+01,\n",
       "       -1.26917677e+01, -2.14948367e+01, -8.72866881e+01, -8.90110423e+01,\n",
       "       -5.06289911e+01, -9.08065785e+01,  7.80314146e+01, -7.83248974e+01,\n",
       "       -2.69674512e+01, -5.65220721e+01,  4.39447733e+01, -5.08408937e+01,\n",
       "        9.69588192e+01, -7.43249620e+01, -3.76946358e+01,  1.23517598e+02,\n",
       "       -6.00152293e+01,  1.01399929e+00, -8.97097911e+01, -4.92662053e+01,\n",
       "       -3.55029588e+01, -8.91202532e+01,  3.87458484e-01, -1.05513794e+02,\n",
       "       -8.37649899e+01, -3.68852478e+01, -9.09343713e+01, -9.22349000e+01,\n",
       "       -4.92662053e+01, -6.06289585e+01, -4.51816929e+01, -4.29351949e+01,\n",
       "       -8.71861019e+01, -7.50334590e+01, -5.45588819e+01, -3.58427186e+01,\n",
       "       -8.47670988e+01, -8.59491419e+01, -5.02734817e+01, -9.18071290e+01,\n",
       "       -7.63114075e+01, -6.92267442e+01, -3.55282028e+01, -4.81103573e+01,\n",
       "       -8.43095768e+01, -7.74938038e+01, -2.92122694e+01,  8.14533141e+01,\n",
       "       -5.64192959e+01, -9.45957865e+01, -1.07766333e+02,  6.93982954e+01,\n",
       "       -3.62079763e+01, -9.42390713e+01, -9.18071290e+01, -8.18605600e+01,\n",
       "       -1.15221750e+01, -8.34981752e+01,  6.67028993e+01, -8.00585514e+01,\n",
       "       -7.47178441e+01, -8.20159019e+01,  8.84516102e+01, -7.58882462e+01,\n",
       "       -9.75867324e+01, -3.49883451e+01, -4.92662053e+01, -1.11281828e+01,\n",
       "       -2.27250524e+01, -5.57610752e-01, -2.69674512e+01, -8.31854522e+01,\n",
       "        8.21472832e+01, -7.76146362e+01, -2.06124520e+01,  6.10560103e+01,\n",
       "        9.85180114e+01, -5.90344813e+01, -8.18605600e+01,  6.04418608e+00,\n",
       "       -9.57373758e+01, -9.10325394e+01, -1.16212722e+02, -7.63114075e+01,\n",
       "        1.00683636e+02, -9.55466650e+01, -6.11535489e+01, -2.07775592e+01,\n",
       "       -8.58839711e+01, -8.46455967e+01, -8.27786354e+01, -3.63765435e+01,\n",
       "       -6.62025386e+01, -8.08213506e+01, -4.60098289e+01,  4.68781369e+01,\n",
       "       -2.54858046e+01, -9.22093308e+01, -1.01646996e+01,  1.31000000e+02,\n",
       "        4.21718213e+01, -3.74821248e+01, -1.95288246e+01, -5.00371749e+01,\n",
       "        9.82382844e+01,  3.00000000e+00, -8.54712720e+01, -4.78940635e+01,\n",
       "       -5.01962915e+01, -3.66281589e+01, -3.65391048e+01, -5.55901502e+01,\n",
       "       -3.06233787e+01, -8.05866678e+01, -9.55466650e+01, -9.27240304e+01,\n",
       "       -9.27240304e+01, -8.33111334e+01,  1.05958200e+02, -9.09343713e+01,\n",
       "       -8.19184578e+01, -5.06289911e+01, -5.02734817e+01, -5.65220721e+01,\n",
       "       -5.10081126e+01, -8.62231877e+01, -1.59865297e+01, -7.40573841e+01,\n",
       "        3.41041661e+01, -8.71548341e+01, -4.18968544e+00,  5.25983341e+01,\n",
       "       -8.20159019e+01,  8.35234292e+01,  9.01162503e+01, -7.94654337e+01,\n",
       "       -9.72524395e+01, -8.65405133e+01, -8.38327157e+01,  3.92990812e-02,\n",
       "       -3.21345351e+01, -4.16710379e+01,  7.17626683e+01,  9.26000000e+01,\n",
       "       -1.24101009e+01, -9.72524395e+01, -8.34938748e+01, -8.20996356e+01,\n",
       "        6.19311223e+01,  1.24119308e+01, -5.90344813e+01,  8.69699770e+01,\n",
       "       -8.11417350e+01, -6.12397263e+01, -4.31151429e+01, -4.98832008e+01,\n",
       "       -8.95106805e+01, -7.52615238e+01, -8.11981600e+01,  4.64233410e+00,\n",
       "       -8.50806230e+01, -8.79806643e+01,  1.94617452e+00, -8.77305653e+01,\n",
       "       -8.19896774e+01, -1.15573965e+02, -7.43249620e+01, -3.88071289e+01,\n",
       "       -4.31151429e+01, -5.60441753e+01, -3.77679187e+01,  9.31903522e+01,\n",
       "       -8.34110496e+01, -7.39642753e+01, -9.31784288e+01, -3.86836933e+01,\n",
       "       -4.33897576e+01, -9.45957865e+01, -6.11535489e+01, -3.66281589e+01,\n",
       "        1.05958200e+02, -7.87712866e+01, -3.63400179e+01,  7.37896402e+00,\n",
       "       -7.21819298e+01, -3.55282028e+01, -8.01891119e+01, -5.45588819e+01,\n",
       "       -5.54508521e+01, -2.54293595e+00, -5.06870263e+01, -8.01958775e+01,\n",
       "       -3.58427186e+01,  7.99664875e+01, -4.32082994e+01, -4.55992645e+01,\n",
       "       -4.65205670e+01, -2.54858046e+01, -8.90461812e+00, -8.47670988e+01,\n",
       "       -1.22200000e+02, -9.18071290e+01, -8.66458900e+01, -4.78940635e+01,\n",
       "       -3.41712004e+00, -3.70337806e+01, -8.34938748e+01, -6.97612845e+01,\n",
       "        9.81491355e+01, -8.94869497e+01, -7.51739026e+01, -4.74000719e+01,\n",
       "       -9.18071290e+01, -9.48150482e+01,  5.73325944e+01, -3.85301015e+01,\n",
       "       -4.31151429e+01])"
      ]
     },
     "execution_count": 54,
     "metadata": {},
     "output_type": "execute_result"
    }
   ],
   "source": [
    "y_hat_knn"
   ]
  },
  {
   "cell_type": "code",
   "execution_count": 55,
   "id": "a02106a6",
   "metadata": {},
   "outputs": [
    {
     "data": {
      "text/plain": [
       "0.6378867971766229"
      ]
     },
     "execution_count": 55,
     "metadata": {},
     "output_type": "execute_result"
    }
   ],
   "source": [
    "# Model evaluation for KNN\n",
    "from sklearn.metrics import r2_score, mean_squared_error,mean_absolute_error\n",
    "r2score_KNN=r2_score(Y_test,y_hat_knn)\n",
    "r2score_KNN"
   ]
  },
  {
   "cell_type": "code",
   "execution_count": 56,
   "id": "9e239636",
   "metadata": {},
   "outputs": [
    {
     "data": {
      "text/plain": [
       "(425, 1)"
      ]
     },
     "execution_count": 56,
     "metadata": {},
     "output_type": "execute_result"
    }
   ],
   "source": [
    "X_test.shape"
   ]
  },
  {
   "cell_type": "code",
   "execution_count": 57,
   "id": "2bf6ee61",
   "metadata": {},
   "outputs": [
    {
     "data": {
      "text/plain": [
       "0.6291252955082742"
      ]
     },
     "execution_count": 57,
     "metadata": {},
     "output_type": "execute_result"
    }
   ],
   "source": [
    "## Calculate adjusted r2 score\n",
    "adjusted_r2_KNN=1-(1-0.63)*(425-1)/(425-1-1)\n",
    "adjusted_r2_KNN"
   ]
  },
  {
   "cell_type": "code",
   "execution_count": 58,
   "id": "dab07894",
   "metadata": {},
   "outputs": [
    {
     "name": "stdout",
     "output_type": "stream",
     "text": [
      "1448.3398276434723\n",
      "40.479040984288076\n"
     ]
    }
   ],
   "source": [
    "import math\n",
    "print(mean_squared_error(Y_test,y_predictRF))\n",
    "print(math.sqrt(mean_squared_error(Y_test,y_hat_knn)))  #root mean squared error"
   ]
  },
  {
   "cell_type": "code",
   "execution_count": 59,
   "id": "a3188fa0",
   "metadata": {},
   "outputs": [
    {
     "name": "stdout",
     "output_type": "stream",
     "text": [
      "22.36712643655247\n"
     ]
    }
   ],
   "source": [
    "print(mean_absolute_error(Y_test,y_hat_knn))"
   ]
  },
  {
   "cell_type": "markdown",
   "id": "99cbb0e1",
   "metadata": {},
   "source": [
    "# Decision Tree"
   ]
  },
  {
   "cell_type": "code",
   "execution_count": 60,
   "id": "22d6e4bc",
   "metadata": {},
   "outputs": [],
   "source": [
    "from sklearn.tree import DecisionTreeRegressor\n",
    "dt=DecisionTreeRegressor()\n",
    "dt.fit(X_train,Y_train)\n",
    "y_hat_DT=dt.predict(X_test)"
   ]
  },
  {
   "cell_type": "code",
   "execution_count": 61,
   "id": "9e130a57",
   "metadata": {},
   "outputs": [
    {
     "data": {
      "text/plain": [
       "array([ -95.87848863,  -51.66513308,  -57.31872135,  107.        ,\n",
       "        -25.0746607 ,   80.3365181 ,  -64.97087781, -112.8431645 ,\n",
       "         82.36724538,  -42.54812756,  -97.        ,  129.        ,\n",
       "          1.21625178,  -73.48791167,  -44.03772921,  -70.20243924,\n",
       "        -72.42753461,  -35.        ,   18.03833636,   83.93005242,\n",
       "        -65.22934947,  -87.        ,  -73.51940597,  -44.        ,\n",
       "         -1.        ,  -95.87848863, -101.        ,  -72.45230268,\n",
       "         26.        ,  -57.60861351,  -92.94112847,  -36.        ,\n",
       "        -63.        ,  -99.43907611,  -89.16489504,  -34.40501243,\n",
       "         -5.49482492,  -48.29808186,   41.36624334,  -59.        ,\n",
       "        -39.63667139,  -24.        ,    5.15080161,  -95.        ,\n",
       "        -76.        ,  -75.9911003 ,  -76.93193485,  -95.        ,\n",
       "        -92.13509303,  -39.63824551,  -49.        ,  -60.14806655,\n",
       "        -83.82733147,  103.        ,   43.61714619, -109.0310113 ,\n",
       "        -43.12700344,  -80.74906409,  -73.19863132,  -76.65343531,\n",
       "        -59.        ,  -41.93468253,  -40.        ,  -27.60287653,\n",
       "       -119.6713673 ,  -52.66666667,  -95.        ,   14.        ,\n",
       "        -89.        ,   52.55720382,  -37.65615936,  -17.91083606,\n",
       "        129.        ,  -55.71583998,  -58.86740713,   86.00624836,\n",
       "        -29.19500549,  129.        ,    1.46798085,  -78.97237496,\n",
       "        -22.93029483,  -85.09071142,  -86.77618185,  -59.11962969,\n",
       "        -33.        ,  -85.5       ,  -87.6300223 ,  -91.74695772,\n",
       "        -10.87340028,  -33.24978183,  -34.9739807 ,  -80.        ,\n",
       "        -48.29808186, -118.7931916 ,   97.14285714,  -22.30029946,\n",
       "        123.060597  ,   22.40757901,  -63.41746806,  -54.66666667,\n",
       "        -86.5       ,  -63.86663357,  -76.62353946,  -93.57196728,\n",
       "        -87.04968828,   58.01520137, -101.9642026 ,  -93.21104281,\n",
       "        -70.99206607,  -51.02695614,  -86.5       ,   38.24941962,\n",
       "        -94.93958463,   13.        ,  -86.5       ,  -45.24033613,\n",
       "        -75.9911003 ,  -74.68968573,  -96.        ,  -99.66680262,\n",
       "       -107.6114178 ,  -57.15089931,   44.        ,  -24.        ,\n",
       "        103.        ,   97.14285714,  -59.30063103,   95.        ,\n",
       "         85.5246007 ,  -18.11702917,  -69.89604131,  -55.14545056,\n",
       "        -83.9769767 ,  -96.46958507,  -98.25      ,  -51.0307231 ,\n",
       "        -43.93094584,    1.46798085,  -27.36712757,  -50.5       ,\n",
       "        -39.15213559,  -30.91793406,  -74.16838897,  -76.        ,\n",
       "        -92.58017803,  -50.5       ,   83.        ,  -11.25681014,\n",
       "       -109.4301784 ,  -51.        , -119.6713673 ,  -54.09911852,\n",
       "         73.8479844 ,  -88.66666667,  -13.        ,  -35.67759484,\n",
       "        -61.16787001,  -59.        ,  -56.37083164,  -31.3863487 ,\n",
       "        -67.94893329,  132.05527   ,  -41.93468253,   46.        ,\n",
       "        -54.26272316, -122.6300049 ,  -81.18258381,   37.5       ,\n",
       "         94.63628875,  125.        ,  -64.97087781,   80.3365181 ,\n",
       "         39.        ,   45.23878665,  -90.24289704,  -59.82378418,\n",
       "        -40.        ,  -74.86354732,  -41.58095753,  -17.98193677,\n",
       "        -41.93468253,  -88.66666667, -100.0111984 ,  -75.9911003 ,\n",
       "        -96.        ,  -61.25      ,   60.10208324,  -85.5       ,\n",
       "        -57.82218601,  -52.68481864,  -40.44527072,  -35.        ,\n",
       "        -13.        ,  103.8184132 ,  -65.01735559,  -39.15213559,\n",
       "        -51.0307231 ,  -78.74335888,  107.        ,  -28.82250803,\n",
       "        -58.00260598,  -47.43960797,   97.14285714,  -39.59092256,\n",
       "        -30.23595041, -104.595355  ,  -27.95189099,   58.01520137,\n",
       "         -8.6079352 ,  -28.5       ,  -85.64976455,  -45.82164171,\n",
       "        -67.82431694,  -95.        ,   87.65325077,  -76.38448185,\n",
       "        -21.5       ,  -72.98043377,   56.90605722,  -51.17616754,\n",
       "        101.023864  ,  -54.27470844,  -33.18686303,  125.120374  ,\n",
       "        -98.00065479,  -46.82643949,  -93.21104281,  123.0879499 ,\n",
       "        -40.30944733,  -97.72882784,   29.15065648, -107.8503136 ,\n",
       "        -86.        ,  -39.59092256,  -95.        ,  -87.01528927,\n",
       "        -55.        ,  -57.31096879,  -68.72581737,  -43.66666667,\n",
       "       -108.1422957 ,  -82.8596582 ,  -90.24289704,  -33.92168429,\n",
       "        -87.88028986,  -97.62883019,  -33.        , -111.0792694 ,\n",
       "       -104.9430524 ,  -43.93094584,  -36.        ,  -38.        ,\n",
       "        -80.06462077,  -55.        ,  -18.62976557,   83.93005242,\n",
       "        -80.        ,  -75.        , -129.9389289 ,  100.4931074 ,\n",
       "        -18.31251762,  -96.        , -116.5886395 ,  -64.97087781,\n",
       "          1.49373122, -103.2039555 ,   65.84630362,  -77.95105379,\n",
       "        -60.        ,  -92.94112847,  116.3274991 ,  -52.        ,\n",
       "        -92.13509303,  -70.36698747,  123.0879499 ,  114.2331742 ,\n",
       "        -61.25      ,  -24.        ,  -21.5       ,  -79.40847684,\n",
       "        107.2929794 ,  -74.68968573,   -5.25191765,   27.90016191,\n",
       "         80.51237343,  -73.41988189,  -64.97087781,  -61.34780894,\n",
       "        -91.        ,  -89.        , -127.0636111 ,  -37.53220503,\n",
       "         60.22634481,  -97.29753278,  -30.91793406,   48.02855258,\n",
       "        -94.41985546,  -83.        ,  -67.72892745,  -52.67569749,\n",
       "        -59.11962969,  -70.40769996,  -57.        ,   41.        ,\n",
       "        -34.        , -125.7609321 , -130.5720846 ,   97.14285714,\n",
       "         39.        ,  -40.5520681 ,  -69.81797981,  -50.94802619,\n",
       "         46.38835856,    3.33333333,  -78.08783768,  -42.24290053,\n",
       "        -59.        ,  -40.44527072,  -28.62021799,  -41.36618892,\n",
       "        -23.92997877,  -75.        ,  -92.13509303,  -76.        ,\n",
       "        -76.        ,  -57.79806578,  125.        ,  -72.70879035,\n",
       "        -86.81404312,  -67.82431694,  -33.        ,  -72.98043377,\n",
       "        -29.91440954,  -95.29948462,  -23.66087616,  -64.        ,\n",
       "         39.        ,  -80.02676665,  -37.96194713,   92.92781851,\n",
       "        -65.45754549,   43.61714619,  107.        ,  -75.9911003 ,\n",
       "        -89.33333333,  -72.97830748,  -91.        ,    5.96416377,\n",
       "        -11.25681014,  -35.67759484,   59.36325164,   95.        ,\n",
       "         13.        ,  -89.33333333,  -68.18132714,  -96.01822054,\n",
       "         91.33827573,  -27.60287653,  -67.98276954,   80.3365181 ,\n",
       "        -76.62353946,  -61.66666667,  -61.16785103,  -50.5       ,\n",
       "        -88.52050974,  -74.48713388,  -58.3815826 ,   14.        ,\n",
       "        -90.85630969,  -73.48791167,   11.947285  ,  -85.09071142,\n",
       "        -65.23538144, -125.9214973 ,  -54.27470844, -103.5617973 ,\n",
       "        -61.16785103,  -58.19827983,  -43.54768479,   51.38717146,\n",
       "        -53.04804705,  -63.        ,  -95.        ,  -16.22572101,\n",
       "        -33.66666667,  -75.        ,  -66.        ,  -40.44527072,\n",
       "         73.8479844 ,  -89.25204159,  -51.36506174,  -28.30600144,\n",
       "        -61.        ,  -36.        ,  -78.95145025,  -90.24289704,\n",
       "        -30.95901824,   10.03590062,  -43.83048837,  -87.5       ,\n",
       "        -29.37022433,  103.        ,  -33.        ,  -42.        ,\n",
       "        -37.65615936,  -19.81154525,    6.1480405 ,  -83.        ,\n",
       "       -120.71428571, -111.0792694 ,  -79.29374542,  -44.89875934,\n",
       "       -107.4993237 ,  -41.93468253,  -87.04968828,  -95.01818683,\n",
       "        102.8245883 ,  -93.        ,  -78.27402128,  -43.66378035,\n",
       "       -111.0792694 , -114.4033845 ,   22.86270988,  -72.97830748,\n",
       "        -61.16785103])"
      ]
     },
     "execution_count": 61,
     "metadata": {},
     "output_type": "execute_result"
    }
   ],
   "source": [
    "y_hat_DT"
   ]
  },
  {
   "cell_type": "code",
   "execution_count": 62,
   "id": "6bf21cb4",
   "metadata": {},
   "outputs": [
    {
     "data": {
      "text/plain": [
       "0.6549954233451032"
      ]
     },
     "execution_count": 62,
     "metadata": {},
     "output_type": "execute_result"
    }
   ],
   "source": [
    "# Evaluation of model\n",
    "from sklearn.metrics import r2_score, mean_squared_error,mean_absolute_error\n",
    "r2score_DT=r2_score(Y_test,y_hat_DT)\n",
    "r2score_DT"
   ]
  },
  {
   "cell_type": "code",
   "execution_count": 63,
   "id": "b1a171bd",
   "metadata": {},
   "outputs": [
    {
     "data": {
      "text/plain": [
       "(425, 1)"
      ]
     },
     "execution_count": 63,
     "metadata": {},
     "output_type": "execute_result"
    }
   ],
   "source": [
    "X_test.shape"
   ]
  },
  {
   "cell_type": "code",
   "execution_count": 64,
   "id": "0579d2e0",
   "metadata": {},
   "outputs": [
    {
     "data": {
      "text/plain": [
       "0.6491725768321513"
      ]
     },
     "execution_count": 64,
     "metadata": {},
     "output_type": "execute_result"
    }
   ],
   "source": [
    "## Calculate adjusted r2 score\n",
    "adjusted_r2_DT=1-(1-0.65)*(425-1)/(425-1-1)\n",
    "adjusted_r2_DT"
   ]
  },
  {
   "cell_type": "code",
   "execution_count": 65,
   "id": "965a2aca",
   "metadata": {},
   "outputs": [
    {
     "name": "stdout",
     "output_type": "stream",
     "text": [
      "1561.1366736713217\n",
      "39.51122212323129\n"
     ]
    }
   ],
   "source": [
    "import math\n",
    "print(mean_squared_error(Y_test,y_hat_DT))\n",
    "print(math.sqrt(mean_squared_error(Y_test,y_hat_DT)))  #root mean squared error"
   ]
  },
  {
   "cell_type": "code",
   "execution_count": 66,
   "id": "ee1be2ab",
   "metadata": {},
   "outputs": [
    {
     "name": "stdout",
     "output_type": "stream",
     "text": [
      "15.767925368214902\n"
     ]
    }
   ],
   "source": [
    "print(mean_absolute_error(Y_test,y_hat_DT))"
   ]
  },
  {
   "cell_type": "code",
   "execution_count": 67,
   "id": "c7c77f60",
   "metadata": {},
   "outputs": [],
   "source": [
    "from sklearn.model_selection import GridSearchCV"
   ]
  },
  {
   "cell_type": "code",
   "execution_count": 68,
   "id": "cc42ce48",
   "metadata": {},
   "outputs": [
    {
     "name": "stdout",
     "output_type": "stream",
     "text": [
      "Fitting 3 folds for each of 2166 candidates, totalling 6498 fits\n",
      "Best paramters: {'max_depth': 8, 'min_samples_leaf': 18, 'min_samples_split': 2, 'splitter': 'best'})\n"
     ]
    }
   ],
   "source": [
    "params = { \n",
    "    \"splitter\":(\"best\", \"random\"), \n",
    "    \"max_depth\":(list(range(1, 20))), \n",
    "    \"min_samples_split\":[2, 3, 4], \n",
    "    \"min_samples_leaf\":list(range(1, 20)), \n",
    "}\n",
    "\n",
    "\n",
    "tree_reg = DecisionTreeRegressor(random_state=3)\n",
    "tree_cv = GridSearchCV(tree_reg, params, scoring='neg_mean_squared_error', n_jobs=-1, verbose=3, cv=3)\n",
    "tree_cv.fit(X_train,Y_train)\n",
    "best_params = tree_cv.best_params_\n",
    "print(f\"Best paramters: {best_params})\")"
   ]
  },
  {
   "cell_type": "code",
   "execution_count": 69,
   "id": "3c2c1258",
   "metadata": {},
   "outputs": [
    {
     "name": "stdout",
     "output_type": "stream",
     "text": [
      "Best paramters: {'max_depth': 8, 'min_samples_leaf': 18, 'min_samples_split': 2, 'splitter': 'best'})\n"
     ]
    }
   ],
   "source": [
    "print(f\"Best paramters: {best_params})\")"
   ]
  },
  {
   "cell_type": "code",
   "execution_count": 70,
   "id": "6d1d45c7",
   "metadata": {},
   "outputs": [
    {
     "data": {
      "text/plain": [
       "{'max_depth': 8,\n",
       " 'min_samples_leaf': 18,\n",
       " 'min_samples_split': 2,\n",
       " 'splitter': 'best'}"
      ]
     },
     "execution_count": 70,
     "metadata": {},
     "output_type": "execute_result"
    }
   ],
   "source": [
    "tree_cv.best_params_"
   ]
  },
  {
   "cell_type": "code",
   "execution_count": 71,
   "id": "d510f2b8",
   "metadata": {},
   "outputs": [
    {
     "data": {
      "text/plain": [
       "-1209.6702552296322"
      ]
     },
     "execution_count": 71,
     "metadata": {},
     "output_type": "execute_result"
    }
   ],
   "source": [
    "tree_cv.best_score_"
   ]
  },
  {
   "cell_type": "code",
   "execution_count": 72,
   "id": "091c0291",
   "metadata": {},
   "outputs": [
    {
     "data": {
      "text/html": [
       "<style>#sk-container-id-2 {color: black;background-color: white;}#sk-container-id-2 pre{padding: 0;}#sk-container-id-2 div.sk-toggleable {background-color: white;}#sk-container-id-2 label.sk-toggleable__label {cursor: pointer;display: block;width: 100%;margin-bottom: 0;padding: 0.3em;box-sizing: border-box;text-align: center;}#sk-container-id-2 label.sk-toggleable__label-arrow:before {content: \"▸\";float: left;margin-right: 0.25em;color: #696969;}#sk-container-id-2 label.sk-toggleable__label-arrow:hover:before {color: black;}#sk-container-id-2 div.sk-estimator:hover label.sk-toggleable__label-arrow:before {color: black;}#sk-container-id-2 div.sk-toggleable__content {max-height: 0;max-width: 0;overflow: hidden;text-align: left;background-color: #f0f8ff;}#sk-container-id-2 div.sk-toggleable__content pre {margin: 0.2em;color: black;border-radius: 0.25em;background-color: #f0f8ff;}#sk-container-id-2 input.sk-toggleable__control:checked~div.sk-toggleable__content {max-height: 200px;max-width: 100%;overflow: auto;}#sk-container-id-2 input.sk-toggleable__control:checked~label.sk-toggleable__label-arrow:before {content: \"▾\";}#sk-container-id-2 div.sk-estimator input.sk-toggleable__control:checked~label.sk-toggleable__label {background-color: #d4ebff;}#sk-container-id-2 div.sk-label input.sk-toggleable__control:checked~label.sk-toggleable__label {background-color: #d4ebff;}#sk-container-id-2 input.sk-hidden--visually {border: 0;clip: rect(1px 1px 1px 1px);clip: rect(1px, 1px, 1px, 1px);height: 1px;margin: -1px;overflow: hidden;padding: 0;position: absolute;width: 1px;}#sk-container-id-2 div.sk-estimator {font-family: monospace;background-color: #f0f8ff;border: 1px dotted black;border-radius: 0.25em;box-sizing: border-box;margin-bottom: 0.5em;}#sk-container-id-2 div.sk-estimator:hover {background-color: #d4ebff;}#sk-container-id-2 div.sk-parallel-item::after {content: \"\";width: 100%;border-bottom: 1px solid gray;flex-grow: 1;}#sk-container-id-2 div.sk-label:hover label.sk-toggleable__label {background-color: #d4ebff;}#sk-container-id-2 div.sk-serial::before {content: \"\";position: absolute;border-left: 1px solid gray;box-sizing: border-box;top: 0;bottom: 0;left: 50%;z-index: 0;}#sk-container-id-2 div.sk-serial {display: flex;flex-direction: column;align-items: center;background-color: white;padding-right: 0.2em;padding-left: 0.2em;position: relative;}#sk-container-id-2 div.sk-item {position: relative;z-index: 1;}#sk-container-id-2 div.sk-parallel {display: flex;align-items: stretch;justify-content: center;background-color: white;position: relative;}#sk-container-id-2 div.sk-item::before, #sk-container-id-2 div.sk-parallel-item::before {content: \"\";position: absolute;border-left: 1px solid gray;box-sizing: border-box;top: 0;bottom: 0;left: 50%;z-index: -1;}#sk-container-id-2 div.sk-parallel-item {display: flex;flex-direction: column;z-index: 1;position: relative;background-color: white;}#sk-container-id-2 div.sk-parallel-item:first-child::after {align-self: flex-end;width: 50%;}#sk-container-id-2 div.sk-parallel-item:last-child::after {align-self: flex-start;width: 50%;}#sk-container-id-2 div.sk-parallel-item:only-child::after {width: 0;}#sk-container-id-2 div.sk-dashed-wrapped {border: 1px dashed gray;margin: 0 0.4em 0.5em 0.4em;box-sizing: border-box;padding-bottom: 0.4em;background-color: white;}#sk-container-id-2 div.sk-label label {font-family: monospace;font-weight: bold;display: inline-block;line-height: 1.2em;}#sk-container-id-2 div.sk-label-container {text-align: center;}#sk-container-id-2 div.sk-container {/* jupyter's `normalize.less` sets `[hidden] { display: none; }` but bootstrap.min.css set `[hidden] { display: none !important; }` so we also need the `!important` here to be able to override the default hidden behavior on the sphinx rendered scikit-learn.org. See: https://github.com/scikit-learn/scikit-learn/issues/21755 */display: inline-block !important;position: relative;}#sk-container-id-2 div.sk-text-repr-fallback {display: none;}</style><div id=\"sk-container-id-2\" class=\"sk-top-container\"><div class=\"sk-text-repr-fallback\"><pre>DecisionTreeRegressor(max_depth=8, min_samples_leaf=18)</pre><b>In a Jupyter environment, please rerun this cell to show the HTML representation or trust the notebook. <br />On GitHub, the HTML representation is unable to render, please try loading this page with nbviewer.org.</b></div><div class=\"sk-container\" hidden><div class=\"sk-item\"><div class=\"sk-estimator sk-toggleable\"><input class=\"sk-toggleable__control sk-hidden--visually\" id=\"sk-estimator-id-2\" type=\"checkbox\" checked><label for=\"sk-estimator-id-2\" class=\"sk-toggleable__label sk-toggleable__label-arrow\">DecisionTreeRegressor</label><div class=\"sk-toggleable__content\"><pre>DecisionTreeRegressor(max_depth=8, min_samples_leaf=18)</pre></div></div></div></div></div>"
      ],
      "text/plain": [
       "DecisionTreeRegressor(max_depth=8, min_samples_leaf=18)"
      ]
     },
     "execution_count": 72,
     "metadata": {},
     "output_type": "execute_result"
    }
   ],
   "source": [
    "dt1=DecisionTreeRegressor(max_depth= 8,min_samples_leaf= 18,min_samples_split= 2,splitter= 'best')\n",
    "dt1.fit(X_train,Y_train)"
   ]
  },
  {
   "cell_type": "code",
   "execution_count": 77,
   "id": "186eb9bb",
   "metadata": {},
   "outputs": [
    {
     "data": {
      "text/plain": [
       "array([ -85.18510788,  -44.30277482,  -44.30277482,   96.40844261,\n",
       "         -7.0436637 ,   74.97569696,  -78.93632365,  -99.37659232,\n",
       "        108.9234569 ,  -44.30277482,  -91.08996809,  108.9234569 ,\n",
       "         30.53857173,  -85.18510788,  -44.30277482,  -78.93632365,\n",
       "        -92.12634822,  -44.30277482,   44.75766329,   74.97569696,\n",
       "        -61.30044597,  -56.31511823,  -61.30044597,  -44.30277482,\n",
       "          2.28146324,  -85.18510788, -110.45194925,  -54.35567545,\n",
       "         15.19841709,  -31.02262142,  -69.16776103,  -37.62301156,\n",
       "        -61.30044597,  -69.16776103,  -37.62301156,  -37.62301156,\n",
       "        -20.17645322,  -54.35567545,   62.30998326,  -47.03292149,\n",
       "        -63.47601418,   18.84370897,  -37.62301156,   18.84370897,\n",
       "        -87.67267278,  -85.18510788,  -37.62301156,   18.84370897,\n",
       "        -83.66213085,  -44.30277482,  -44.30277482,  -76.6619564 ,\n",
       "        -92.12634822,   89.23231362,   89.23231362,  -91.08996809,\n",
       "        -47.03292149,  -87.67267278,  -60.0602262 ,  -88.20656573,\n",
       "        -47.03292149,  -47.03292149,  -47.03292149,    7.09830037,\n",
       "        -91.08996809,  -44.30277482,  -87.67267278,    7.09830037,\n",
       "        -78.93632365,   86.33609382,  -60.0602262 ,   15.19841709,\n",
       "        108.9234569 ,  -44.30277482,  -63.47601418,   86.33609382,\n",
       "        -60.0602262 ,  108.9234569 ,   -7.0436637 ,  -87.67267278,\n",
       "        -37.62301156,  -23.79244807,  -91.08996809,  -61.30044597,\n",
       "        -44.30277482,  -88.20656573,  -91.08996809, -110.45194925,\n",
       "        -10.86252119,  -44.30277482,  -68.29328284,  -63.47601418,\n",
       "        -54.35567545,  -91.08996809,   18.84370897,    7.09830037,\n",
       "         18.84370897,    7.09830037,  -68.29328284,  -60.0602262 ,\n",
       "        -91.08996809,  -37.62301156,  -87.67267278,  -72.59523705,\n",
       "        -87.67267278,   96.40844261,  -69.16776103,  -87.67267278,\n",
       "        -56.31511823,   -7.0436637 ,  -91.08996809,  -10.86252119,\n",
       "         18.84370897,   -7.0436637 ,  -83.66213085,  -44.30277482,\n",
       "        -85.18510788,  -71.12629344,  -91.08996809,  -44.30277482,\n",
       "        -72.59523705,  -69.16776103,   30.53857173,   18.84370897,\n",
       "         89.23231362,   18.84370897,  -69.16776103,   89.23231362,\n",
       "         86.33609382,  -31.02262142,  -44.30277482,   18.84370897,\n",
       "        -76.6619564 ,  -69.16776103,  -91.08996809,  -61.30044597,\n",
       "        -60.0602262 ,   -7.0436637 ,  -44.30277482,  -54.35567545,\n",
       "        -31.02262142,  -72.59523705,  -91.08996809,  -76.6619564 ,\n",
       "        -63.47601418,  -54.35567545,   74.97569696,  -10.86252119,\n",
       "        -88.20656573,  -47.03292149,  -91.08996809,  -44.30277482,\n",
       "         96.40844261,  -87.67267278,    2.28146324,  -44.30277482,\n",
       "        -78.93632365,  -47.03292149,    7.09830037,  -72.59523705,\n",
       "        -44.30277482,  108.9234569 ,  -47.03292149,   30.53857173,\n",
       "        -37.62301156, -110.45194925,  -56.31511823,   44.75766329,\n",
       "        108.9234569 ,   96.40844261,  -78.93632365,   74.97569696,\n",
       "         30.53857173,    7.09830037,  -63.47601418,  -78.93632365,\n",
       "        -47.03292149,  -72.59523705,  -44.30277482,  -44.30277482,\n",
       "        -47.03292149,  -87.67267278,  -99.37659232,  -85.18510788,\n",
       "        -91.08996809,  -23.79244807,   86.33609382,  -88.20656573,\n",
       "        -44.30277482,  -63.47601418,  -44.30277482,  -44.30277482,\n",
       "          2.28146324,   30.53857173,  -68.29328284,  -31.02262142,\n",
       "        -61.30044597,  -91.08996809,   96.40844261,  -44.30277482,\n",
       "        -44.30277482,  -47.03292149,   18.84370897,  -44.30277482,\n",
       "        -44.30277482,  -87.67267278,  -47.03292149,   96.40844261,\n",
       "        -20.17645322,  -31.02262142,  -69.16776103,  -85.18510788,\n",
       "        -60.0602262 ,  -87.67267278,   74.97569696,  -71.12629344,\n",
       "        -69.16776103,  -47.03292149,   44.75766329,  -44.30277482,\n",
       "         74.97569696,  -76.6619564 ,  -44.30277482,  108.9234569 ,\n",
       "        -72.59523705,  -10.86252119,  -87.67267278,  -23.79244807,\n",
       "        -44.30277482,  -85.18510788,    2.28146324,  -99.37659232,\n",
       "        -87.67267278,  -44.30277482,  -99.37659232,  -91.08996809,\n",
       "        -23.79244807,  -72.59523705,  -61.30044597,  -44.30277482,\n",
       "        -76.6619564 ,  -78.93632365,  -63.47601418,  -44.30277482,\n",
       "        -91.08996809,  -88.20656573,  -44.30277482,  -85.18510788,\n",
       "        -85.18510788,  -60.0602262 ,  -37.62301156,  -44.30277482,\n",
       "        -87.67267278,  -44.30277482,  -44.30277482,   74.97569696,\n",
       "        -63.47601418,  -69.16776103,  -56.31511823,   89.23231362,\n",
       "        -44.30277482,  -91.08996809,  -85.18510788,  -78.93632365,\n",
       "        -10.86252119,  -72.59523705,   86.33609382,  -91.08996809,\n",
       "        -61.30044597,  -69.16776103,  108.9234569 ,  -44.30277482,\n",
       "        -83.66213085,  -44.30277482,  -23.79244807,  -56.31511823,\n",
       "        -23.79244807,   18.84370897,  -69.16776103,  -87.67267278,\n",
       "         74.97569696,  -71.12629344,  -37.62301156,   62.30998326,\n",
       "        108.9234569 ,  -61.30044597,  -78.93632365,  -23.79244807,\n",
       "        -91.08996809,  -78.93632365,  -92.12634822,  -76.6619564 ,\n",
       "        108.9234569 ,  -83.66213085,  -72.59523705,  -10.86252119,\n",
       "        -88.20656573,  -85.18510788,  -91.08996809,  -44.30277482,\n",
       "        -61.30044597,  -87.67267278,  -60.0602262 ,   30.53857173,\n",
       "        -44.30277482,  -88.20656573,  -56.31511823,   18.84370897,\n",
       "         30.53857173,  -44.30277482,  -10.86252119,  -44.30277482,\n",
       "         96.40844261,   -7.0436637 ,  -88.20656573,  -44.30277482,\n",
       "        -47.03292149,  -44.30277482,  -44.30277482,  -54.35567545,\n",
       "        -44.30277482,  -87.67267278,  -83.66213085,  -87.67267278,\n",
       "        -87.67267278,  -69.16776103,   96.40844261,  -99.37659232,\n",
       "        -69.16776103,  -60.0602262 ,  -44.30277482,  -47.03292149,\n",
       "        -37.62301156,  -91.08996809,  -10.86252119,  -72.59523705,\n",
       "         30.53857173,  -87.67267278,  -10.86252119,   74.97569696,\n",
       "        -69.16776103,   89.23231362,   96.40844261,  -85.18510788,\n",
       "        -99.37659232,  -69.16776103,  -91.08996809,   -7.0436637 ,\n",
       "        -10.86252119,  -44.30277482,   62.30998326,   89.23231362,\n",
       "         -7.0436637 ,  -99.37659232,  -87.67267278,  -78.93632365,\n",
       "         44.75766329,    7.09830037,  -61.30044597,   74.97569696,\n",
       "        -87.67267278,  -60.0602262 ,  -44.30277482,  -54.35567545,\n",
       "        -87.67267278,  -78.93632365,  -91.08996809,    7.09830037,\n",
       "        -87.67267278,  -85.18510788,  -10.86252119,  -23.79244807,\n",
       "        -44.30277482,  -92.12634822,  -76.6619564 ,  -23.79244807,\n",
       "        -44.30277482,  -60.0602262 ,  -44.30277482,   89.23231362,\n",
       "        -87.67267278,  -61.30044597,  -87.67267278,  -44.30277482,\n",
       "        -31.02262142,  -69.16776103,  -72.59523705,  -44.30277482,\n",
       "         96.40844261,  -85.18510788,  -44.30277482,    7.09830037,\n",
       "        -72.59523705,  -37.62301156,  -87.67267278,  -63.47601418,\n",
       "        -44.30277482,  -10.86252119,  -63.47601418,  -78.93632365,\n",
       "        -44.30277482,   89.23231362,  -44.30277482,  -44.30277482,\n",
       "        -60.0602262 ,  -44.30277482,    7.09830037,  -91.08996809,\n",
       "        -92.12634822,  -85.18510788,  -83.66213085,  -44.30277482,\n",
       "         18.84370897,  -47.03292149,  -87.67267278,  -44.30277482,\n",
       "        108.9234569 ,  -91.08996809,  -85.18510788,  -44.30277482,\n",
       "        -85.18510788,  -99.37659232,   74.97569696,  -69.16776103,\n",
       "        -44.30277482])"
      ]
     },
     "execution_count": 77,
     "metadata": {},
     "output_type": "execute_result"
    }
   ],
   "source": [
    "y_hat_dt=dt1.predict(X_test)\n",
    "y_hat_dt"
   ]
  },
  {
   "cell_type": "code",
   "execution_count": 78,
   "id": "6659580b",
   "metadata": {},
   "outputs": [
    {
     "data": {
      "text/plain": [
       "0.6643054153279992"
      ]
     },
     "execution_count": 78,
     "metadata": {},
     "output_type": "execute_result"
    }
   ],
   "source": [
    "from sklearn.metrics import r2_score, mean_squared_error,mean_absolute_error\n",
    "r2score_dt=r2_score(Y_test,y_hat_dt)\n",
    "r2score_dt"
   ]
  },
  {
   "cell_type": "code",
   "execution_count": 79,
   "id": "60fd9107",
   "metadata": {},
   "outputs": [
    {
     "data": {
      "text/plain": [
       "(425, 1)"
      ]
     },
     "execution_count": 79,
     "metadata": {},
     "output_type": "execute_result"
    }
   ],
   "source": [
    "X_test.shape"
   ]
  },
  {
   "cell_type": "code",
   "execution_count": 80,
   "id": "c087dd96",
   "metadata": {},
   "outputs": [
    {
     "data": {
      "text/plain": [
       "0.9899976905311778"
      ]
     },
     "execution_count": 80,
     "metadata": {},
     "output_type": "execute_result"
    }
   ],
   "source": [
    "## Calculate adjusted r2 score\n",
    "adjusted_r2_dt=1-(1-0.99)*(4345-14)/(4345-14-1)\n",
    "adjusted_r2_dt"
   ]
  },
  {
   "cell_type": "code",
   "execution_count": 81,
   "id": "87e92d13",
   "metadata": {},
   "outputs": [
    {
     "name": "stdout",
     "output_type": "stream",
     "text": [
      "1519.0092037780068\n",
      "38.97446861444049\n"
     ]
    }
   ],
   "source": [
    "import math\n",
    "print(mean_squared_error(Y_test,y_hat_dt))\n",
    "print(math.sqrt(mean_squared_error(Y_test,y_hat_dt)))  #root mean squared error"
   ]
  },
  {
   "cell_type": "code",
   "execution_count": 82,
   "id": "1b961cb3",
   "metadata": {},
   "outputs": [
    {
     "name": "stdout",
     "output_type": "stream",
     "text": [
      "22.566976549831832\n"
     ]
    }
   ],
   "source": [
    "print(mean_absolute_error(Y_test,y_hat_dt))"
   ]
  },
  {
   "cell_type": "markdown",
   "id": "71968fe0",
   "metadata": {},
   "source": [
    "# Support Vector Regressor"
   ]
  },
  {
   "cell_type": "code",
   "execution_count": 85,
   "id": "89cddff6",
   "metadata": {},
   "outputs": [
    {
     "data": {
      "text/html": [
       "<style>#sk-container-id-3 {color: black;background-color: white;}#sk-container-id-3 pre{padding: 0;}#sk-container-id-3 div.sk-toggleable {background-color: white;}#sk-container-id-3 label.sk-toggleable__label {cursor: pointer;display: block;width: 100%;margin-bottom: 0;padding: 0.3em;box-sizing: border-box;text-align: center;}#sk-container-id-3 label.sk-toggleable__label-arrow:before {content: \"▸\";float: left;margin-right: 0.25em;color: #696969;}#sk-container-id-3 label.sk-toggleable__label-arrow:hover:before {color: black;}#sk-container-id-3 div.sk-estimator:hover label.sk-toggleable__label-arrow:before {color: black;}#sk-container-id-3 div.sk-toggleable__content {max-height: 0;max-width: 0;overflow: hidden;text-align: left;background-color: #f0f8ff;}#sk-container-id-3 div.sk-toggleable__content pre {margin: 0.2em;color: black;border-radius: 0.25em;background-color: #f0f8ff;}#sk-container-id-3 input.sk-toggleable__control:checked~div.sk-toggleable__content {max-height: 200px;max-width: 100%;overflow: auto;}#sk-container-id-3 input.sk-toggleable__control:checked~label.sk-toggleable__label-arrow:before {content: \"▾\";}#sk-container-id-3 div.sk-estimator input.sk-toggleable__control:checked~label.sk-toggleable__label {background-color: #d4ebff;}#sk-container-id-3 div.sk-label input.sk-toggleable__control:checked~label.sk-toggleable__label {background-color: #d4ebff;}#sk-container-id-3 input.sk-hidden--visually {border: 0;clip: rect(1px 1px 1px 1px);clip: rect(1px, 1px, 1px, 1px);height: 1px;margin: -1px;overflow: hidden;padding: 0;position: absolute;width: 1px;}#sk-container-id-3 div.sk-estimator {font-family: monospace;background-color: #f0f8ff;border: 1px dotted black;border-radius: 0.25em;box-sizing: border-box;margin-bottom: 0.5em;}#sk-container-id-3 div.sk-estimator:hover {background-color: #d4ebff;}#sk-container-id-3 div.sk-parallel-item::after {content: \"\";width: 100%;border-bottom: 1px solid gray;flex-grow: 1;}#sk-container-id-3 div.sk-label:hover label.sk-toggleable__label {background-color: #d4ebff;}#sk-container-id-3 div.sk-serial::before {content: \"\";position: absolute;border-left: 1px solid gray;box-sizing: border-box;top: 0;bottom: 0;left: 50%;z-index: 0;}#sk-container-id-3 div.sk-serial {display: flex;flex-direction: column;align-items: center;background-color: white;padding-right: 0.2em;padding-left: 0.2em;position: relative;}#sk-container-id-3 div.sk-item {position: relative;z-index: 1;}#sk-container-id-3 div.sk-parallel {display: flex;align-items: stretch;justify-content: center;background-color: white;position: relative;}#sk-container-id-3 div.sk-item::before, #sk-container-id-3 div.sk-parallel-item::before {content: \"\";position: absolute;border-left: 1px solid gray;box-sizing: border-box;top: 0;bottom: 0;left: 50%;z-index: -1;}#sk-container-id-3 div.sk-parallel-item {display: flex;flex-direction: column;z-index: 1;position: relative;background-color: white;}#sk-container-id-3 div.sk-parallel-item:first-child::after {align-self: flex-end;width: 50%;}#sk-container-id-3 div.sk-parallel-item:last-child::after {align-self: flex-start;width: 50%;}#sk-container-id-3 div.sk-parallel-item:only-child::after {width: 0;}#sk-container-id-3 div.sk-dashed-wrapped {border: 1px dashed gray;margin: 0 0.4em 0.5em 0.4em;box-sizing: border-box;padding-bottom: 0.4em;background-color: white;}#sk-container-id-3 div.sk-label label {font-family: monospace;font-weight: bold;display: inline-block;line-height: 1.2em;}#sk-container-id-3 div.sk-label-container {text-align: center;}#sk-container-id-3 div.sk-container {/* jupyter's `normalize.less` sets `[hidden] { display: none; }` but bootstrap.min.css set `[hidden] { display: none !important; }` so we also need the `!important` here to be able to override the default hidden behavior on the sphinx rendered scikit-learn.org. See: https://github.com/scikit-learn/scikit-learn/issues/21755 */display: inline-block !important;position: relative;}#sk-container-id-3 div.sk-text-repr-fallback {display: none;}</style><div id=\"sk-container-id-3\" class=\"sk-top-container\"><div class=\"sk-text-repr-fallback\"><pre>SVR()</pre><b>In a Jupyter environment, please rerun this cell to show the HTML representation or trust the notebook. <br />On GitHub, the HTML representation is unable to render, please try loading this page with nbviewer.org.</b></div><div class=\"sk-container\" hidden><div class=\"sk-item\"><div class=\"sk-estimator sk-toggleable\"><input class=\"sk-toggleable__control sk-hidden--visually\" id=\"sk-estimator-id-3\" type=\"checkbox\" checked><label for=\"sk-estimator-id-3\" class=\"sk-toggleable__label sk-toggleable__label-arrow\">SVR</label><div class=\"sk-toggleable__content\"><pre>SVR()</pre></div></div></div></div></div>"
      ],
      "text/plain": [
       "SVR()"
      ]
     },
     "execution_count": 85,
     "metadata": {},
     "output_type": "execute_result"
    }
   ],
   "source": [
    "from sklearn.svm import SVR\n",
    "svregressor = SVR() ## base model with default parameters\n",
    "svregressor.fit(X, Y)"
   ]
  },
  {
   "cell_type": "code",
   "execution_count": 86,
   "id": "c7669fc6",
   "metadata": {},
   "outputs": [],
   "source": [
    "y_hat_SVR=svregressor.predict(X_test)"
   ]
  },
  {
   "cell_type": "code",
   "execution_count": 93,
   "id": "bdd57bb2",
   "metadata": {},
   "outputs": [
    {
     "data": {
      "text/plain": [
       "array([-80.9530172 , -40.4155272 , -51.93476254,  65.79768829,\n",
       "         9.11229042,  58.40429535, -76.62883848, -86.5382025 ,\n",
       "        70.80021408, -37.90944118, -86.68090292,  70.1881607 ,\n",
       "        35.36294554, -81.11443383, -50.34115329, -78.52205801,\n",
       "       -78.50315213, -40.98449747,  27.42002301,  57.150274  ,\n",
       "       -57.75122179, -72.86629567, -61.33383086, -47.4962278 ,\n",
       "         0.66704399, -80.95427206, -75.79895421, -56.1379485 ,\n",
       "        23.6149616 , -21.9848675 , -66.45217442, -29.41735798,\n",
       "       -60.97102028, -66.4254164 , -35.55515889, -32.25164532,\n",
       "       -27.28189048, -55.7474708 ,  45.63040758, -47.60760378,\n",
       "       -74.55800301, -74.09969307, -38.9947339 , -73.49260598,\n",
       "       -81.2154885 , -80.11551861, -38.49767035, -73.49580108,\n",
       "       -86.18339904, -51.15483605, -53.56017385, -84.14422352,\n",
       "       -77.49830512,  63.17398217,  61.20326106, -86.7713555 ,\n",
       "       -46.23085193, -84.252253  , -60.45625006, -72.02028677,\n",
       "       -47.71233163, -52.70016409, -52.68102101,  17.41221592,\n",
       "       -84.40589794, -61.72964142, -85.29786282,  15.50379764,\n",
       "       -75.14098292,  52.55134979, -63.05909706,  23.17461355,\n",
       "        70.06558449, -47.52132563, -76.01935233,  50.09214241,\n",
       "       -56.61385541,  70.14985786,  11.76965527, -83.55731652,\n",
       "       -42.34602162, -64.6812032 , -86.60735116, -57.94469629,\n",
       "       -37.72558869, -71.55890757, -86.36817675, -75.40341709,\n",
       "        -8.07993993, -37.60580461, -67.60626371, -74.55494447,\n",
       "       -55.60583512, -84.86535984, -74.68687354,  15.22463441,\n",
       "       -74.99500801,  12.67574185, -68.26070465, -60.87538623,\n",
       "       -85.89974873, -38.99532241, -85.10285019, -66.57055402,\n",
       "       -81.48557038,  66.98750105, -67.66899044, -82.04070366,\n",
       "       -73.1900279 ,   9.91480546, -85.89974873,  -6.30363602,\n",
       "       -74.52389673,  11.33187162, -85.93183119, -37.52817651,\n",
       "       -80.13064686, -70.22646433, -86.39059006, -58.38674159,\n",
       "       -69.05888642, -68.62312352,  34.3883986 , -74.09969307,\n",
       "        63.24726909, -74.68687354, -66.40936076,  61.17544267,\n",
       "        52.26349241, -15.7998028 , -60.77290511, -74.18133687,\n",
       "       -83.81279386, -69.46710022, -86.77480538, -63.54338744,\n",
       "       -65.34023843,  11.8836193 , -57.03598953, -54.22226839,\n",
       "       -14.88377767, -70.71090434, -86.7417566 , -82.56390568,\n",
       "       -75.45073844, -54.30260284,  58.98091909,  -4.49004542,\n",
       "       -71.35878853, -50.90016716, -84.40589794, -53.02741503,\n",
       "        68.2378669 , -83.54768591,  -1.49278463, -46.61215434,\n",
       "       -75.11936425, -47.23850875,  13.89289738, -70.81943274,\n",
       "       -53.33244356,  72.1117768 , -53.54659376,  40.2917199 ,\n",
       "       -32.1221203 , -76.92113759, -73.26716531,  27.52936042,\n",
       "        72.05056857,  67.96652408, -76.66404287,  58.2553893 ,\n",
       "        33.77051425,  16.48269366, -74.48927991, -74.56739136,\n",
       "       -52.68102101, -73.57756279, -51.81185554, -39.62281642,\n",
       "       -53.22530499, -83.54768591, -86.77213313, -80.13064686,\n",
       "       -86.39059006, -65.71945421,  49.74325964, -71.55890757,\n",
       "       -54.83287463, -77.30691936, -45.89480659, -40.9760016 ,\n",
       "        -1.49278463,  35.08028343, -66.15914867, -14.85373458,\n",
       "       -63.98564121, -85.32359257,  65.89595977, -51.22392128,\n",
       "       -45.25788677, -45.71738842, -74.68687354, -38.83927823,\n",
       "       -41.26010398, -81.13229839, -54.47038218,  66.86050739,\n",
       "       -22.35897398, -16.65410243, -68.25866541, -78.54193841,\n",
       "       -61.79376257, -84.04275506,  55.9702438 , -70.59054527,\n",
       "       -68.00819834, -45.13859771,  27.89365249, -56.14307386,\n",
       "        60.67983366, -83.15997196, -40.10952826,  72.10124391,\n",
       "       -67.3687683 , -12.33200127, -82.13733187, -64.06325029,\n",
       "       -43.94853672, -80.35560693,   0.26970623, -86.4359685 ,\n",
       "       -84.50023576, -38.81075232, -86.55848597, -86.74681907,\n",
       "       -64.14369403, -69.29946243, -63.39111153, -50.68198223,\n",
       "       -82.23096498, -73.01798943, -74.45888008, -41.67103971,\n",
       "       -86.53806931, -71.28065275, -42.17518186, -78.09179898,\n",
       "       -81.54889165, -65.34023843, -29.41735798, -42.48408966,\n",
       "       -78.87301624, -63.3439201 , -47.62628957,  57.70287193,\n",
       "       -74.55494447, -69.47264377, -72.32895542,  62.78791223,\n",
       "       -37.86502868, -86.39059006, -77.95388781, -76.63992796,\n",
       "        -8.3596392 , -72.58378265,  53.01284114, -85.23062682,\n",
       "       -59.99632029, -66.45217442,  70.91121504, -58.44723638,\n",
       "       -86.24324377, -60.52235523, -64.06325029, -73.05049837,\n",
       "       -65.71945421, -74.09969307, -68.00819834, -79.19719842,\n",
       "        60.41693997, -70.22646433, -41.5168584 ,  46.24173997,\n",
       "        71.36406373, -59.25480194, -76.63992796, -65.0444278 ,\n",
       "       -84.30439843, -75.14098292, -78.77332663, -81.63291964,\n",
       "        70.40326333, -86.11181859, -70.62143088,  -3.29151006,\n",
       "       -70.9874459 , -78.7554237 , -86.45729223, -37.60165222,\n",
       "       -57.94469629, -83.07260996, -63.82872538,  38.26636391,\n",
       "       -39.55337226, -71.71902404, -73.10274044, -74.68687354,\n",
       "        33.61591319, -40.65223562,  -4.05065648, -53.02371465,\n",
       "        68.81173223,   7.09957365, -71.49737147, -37.92583546,\n",
       "       -47.23850875, -45.89480659, -45.10421552, -55.89887731,\n",
       "       -40.19629005, -79.85699199, -86.18339904, -81.21585637,\n",
       "       -81.21585637, -66.86601005,  67.96652408, -86.55842744,\n",
       "       -67.36405084, -61.79376257, -42.17518186, -45.36043102,\n",
       "       -36.3566045 , -85.6003556 , -12.82653295, -72.06698958,\n",
       "        33.77051425, -84.96495376,  -1.90992045,  61.12896303,\n",
       "       -66.38683254,  61.22059635,  65.89830928, -80.15982553,\n",
       "       -86.67726671, -69.64660735, -84.26270972,   6.20620239,\n",
       "        -4.62770324, -46.61215434,  42.58157359,  61.17544267,\n",
       "        11.33187162, -86.67726671, -81.56205411, -74.74183482,\n",
       "        32.38664053,  17.42954462, -59.18098381,  58.45267759,\n",
       "       -85.10285019, -59.44123419, -48.78758228, -54.30260284,\n",
       "       -84.03995786, -76.82640785, -86.4601246 ,  15.50379764,\n",
       "       -80.41510881, -81.11618589, -11.44720173, -64.6812032 ,\n",
       "       -59.75772607, -78.99571916, -83.15997196, -64.47563851,\n",
       "       -48.98197987, -61.5754242 , -41.43333095,  63.75374396,\n",
       "       -83.28529678, -60.8370654 , -85.29786282, -41.90583721,\n",
       "       -18.80532897, -69.47264377, -70.98381986, -46.05754682,\n",
       "        68.2378669 , -79.28873366, -43.26565873,  18.62675037,\n",
       "       -66.98717875, -29.39490295, -79.61048898, -74.45888008,\n",
       "       -56.80474958,  -6.44885308, -77.05221242, -74.30625024,\n",
       "       -41.55164452,  63.51937203, -46.8856146 , -42.74734789,\n",
       "       -62.56173552, -39.72991   ,  14.68441188, -86.56057541,\n",
       "       -77.7580633 , -78.10420686, -85.92248885, -38.24596057,\n",
       "       -74.90291238, -53.54659376, -81.48557038, -58.12065305,\n",
       "        70.67395139, -86.17045892, -79.95572382, -37.86178054,\n",
       "       -78.08766113, -86.51638355,  55.71275945, -69.70094618,\n",
       "       -48.78758228])"
      ]
     },
     "execution_count": 93,
     "metadata": {},
     "output_type": "execute_result"
    }
   ],
   "source": [
    "y_hat_SVR"
   ]
  },
  {
   "cell_type": "code",
   "execution_count": 95,
   "id": "13f8f14b",
   "metadata": {},
   "outputs": [
    {
     "data": {
      "text/plain": [
       "0.6012480920008079"
      ]
     },
     "execution_count": 95,
     "metadata": {},
     "output_type": "execute_result"
    }
   ],
   "source": [
    "from sklearn.metrics import r2_score, mean_squared_error,mean_absolute_error\n",
    "r2score_SVR=r2_score(Y_test,y_hat_SVR)\n",
    "r2score_SVR"
   ]
  },
  {
   "cell_type": "code",
   "execution_count": 96,
   "id": "ce9c3918",
   "metadata": {},
   "outputs": [
    {
     "data": {
      "text/plain": [
       "(425, 1)"
      ]
     },
     "execution_count": 96,
     "metadata": {},
     "output_type": "execute_result"
    }
   ],
   "source": [
    "X_test.shape"
   ]
  },
  {
   "cell_type": "code",
   "execution_count": 97,
   "id": "948349a9",
   "metadata": {},
   "outputs": [
    {
     "data": {
      "text/plain": [
       "0.5990543735224585"
      ]
     },
     "execution_count": 97,
     "metadata": {},
     "output_type": "execute_result"
    }
   ],
   "source": [
    "## Calculate adjusted r2 score\n",
    "adjusted_r2_SVR=1-(1-0.60)*(425-1)/(425-1-1)\n",
    "adjusted_r2_SVR"
   ]
  },
  {
   "cell_type": "code",
   "execution_count": 98,
   "id": "990ef73e",
   "metadata": {},
   "outputs": [
    {
     "name": "stdout",
     "output_type": "stream",
     "text": [
      "1804.3419403581877\n",
      "42.47754630811657\n"
     ]
    }
   ],
   "source": [
    "import math\n",
    "print(mean_squared_error(Y_test,y_hat_SVR))\n",
    "print(math.sqrt(mean_squared_error(Y_test,y_hat_SVR)))  #root mean squared error"
   ]
  },
  {
   "cell_type": "code",
   "execution_count": 99,
   "id": "b5d5370e",
   "metadata": {},
   "outputs": [
    {
     "name": "stdout",
     "output_type": "stream",
     "text": [
      "23.136331783089084\n"
     ]
    }
   ],
   "source": [
    "print(mean_absolute_error(Y_test,y_hat_SVR))"
   ]
  },
  {
   "cell_type": "markdown",
   "id": "2d6f76d7",
   "metadata": {},
   "source": [
    "## Hyperparameter tuning"
   ]
  },
  {
   "cell_type": "code",
   "execution_count": 100,
   "id": "4ae3ee56",
   "metadata": {},
   "outputs": [],
   "source": [
    "regressor=SVR(C=0.1,cache_size=200,coef0=1,degree=3,epsilon=0.1,gamma='auto',kernel='rbf')"
   ]
  },
  {
   "cell_type": "code",
   "execution_count": 101,
   "id": "5c415163",
   "metadata": {},
   "outputs": [
    {
     "data": {
      "text/html": [
       "<style>#sk-container-id-4 {color: black;background-color: white;}#sk-container-id-4 pre{padding: 0;}#sk-container-id-4 div.sk-toggleable {background-color: white;}#sk-container-id-4 label.sk-toggleable__label {cursor: pointer;display: block;width: 100%;margin-bottom: 0;padding: 0.3em;box-sizing: border-box;text-align: center;}#sk-container-id-4 label.sk-toggleable__label-arrow:before {content: \"▸\";float: left;margin-right: 0.25em;color: #696969;}#sk-container-id-4 label.sk-toggleable__label-arrow:hover:before {color: black;}#sk-container-id-4 div.sk-estimator:hover label.sk-toggleable__label-arrow:before {color: black;}#sk-container-id-4 div.sk-toggleable__content {max-height: 0;max-width: 0;overflow: hidden;text-align: left;background-color: #f0f8ff;}#sk-container-id-4 div.sk-toggleable__content pre {margin: 0.2em;color: black;border-radius: 0.25em;background-color: #f0f8ff;}#sk-container-id-4 input.sk-toggleable__control:checked~div.sk-toggleable__content {max-height: 200px;max-width: 100%;overflow: auto;}#sk-container-id-4 input.sk-toggleable__control:checked~label.sk-toggleable__label-arrow:before {content: \"▾\";}#sk-container-id-4 div.sk-estimator input.sk-toggleable__control:checked~label.sk-toggleable__label {background-color: #d4ebff;}#sk-container-id-4 div.sk-label input.sk-toggleable__control:checked~label.sk-toggleable__label {background-color: #d4ebff;}#sk-container-id-4 input.sk-hidden--visually {border: 0;clip: rect(1px 1px 1px 1px);clip: rect(1px, 1px, 1px, 1px);height: 1px;margin: -1px;overflow: hidden;padding: 0;position: absolute;width: 1px;}#sk-container-id-4 div.sk-estimator {font-family: monospace;background-color: #f0f8ff;border: 1px dotted black;border-radius: 0.25em;box-sizing: border-box;margin-bottom: 0.5em;}#sk-container-id-4 div.sk-estimator:hover {background-color: #d4ebff;}#sk-container-id-4 div.sk-parallel-item::after {content: \"\";width: 100%;border-bottom: 1px solid gray;flex-grow: 1;}#sk-container-id-4 div.sk-label:hover label.sk-toggleable__label {background-color: #d4ebff;}#sk-container-id-4 div.sk-serial::before {content: \"\";position: absolute;border-left: 1px solid gray;box-sizing: border-box;top: 0;bottom: 0;left: 50%;z-index: 0;}#sk-container-id-4 div.sk-serial {display: flex;flex-direction: column;align-items: center;background-color: white;padding-right: 0.2em;padding-left: 0.2em;position: relative;}#sk-container-id-4 div.sk-item {position: relative;z-index: 1;}#sk-container-id-4 div.sk-parallel {display: flex;align-items: stretch;justify-content: center;background-color: white;position: relative;}#sk-container-id-4 div.sk-item::before, #sk-container-id-4 div.sk-parallel-item::before {content: \"\";position: absolute;border-left: 1px solid gray;box-sizing: border-box;top: 0;bottom: 0;left: 50%;z-index: -1;}#sk-container-id-4 div.sk-parallel-item {display: flex;flex-direction: column;z-index: 1;position: relative;background-color: white;}#sk-container-id-4 div.sk-parallel-item:first-child::after {align-self: flex-end;width: 50%;}#sk-container-id-4 div.sk-parallel-item:last-child::after {align-self: flex-start;width: 50%;}#sk-container-id-4 div.sk-parallel-item:only-child::after {width: 0;}#sk-container-id-4 div.sk-dashed-wrapped {border: 1px dashed gray;margin: 0 0.4em 0.5em 0.4em;box-sizing: border-box;padding-bottom: 0.4em;background-color: white;}#sk-container-id-4 div.sk-label label {font-family: monospace;font-weight: bold;display: inline-block;line-height: 1.2em;}#sk-container-id-4 div.sk-label-container {text-align: center;}#sk-container-id-4 div.sk-container {/* jupyter's `normalize.less` sets `[hidden] { display: none; }` but bootstrap.min.css set `[hidden] { display: none !important; }` so we also need the `!important` here to be able to override the default hidden behavior on the sphinx rendered scikit-learn.org. See: https://github.com/scikit-learn/scikit-learn/issues/21755 */display: inline-block !important;position: relative;}#sk-container-id-4 div.sk-text-repr-fallback {display: none;}</style><div id=\"sk-container-id-4\" class=\"sk-top-container\"><div class=\"sk-text-repr-fallback\"><pre>SVR(C=0.1, coef0=1, gamma=&#x27;auto&#x27;)</pre><b>In a Jupyter environment, please rerun this cell to show the HTML representation or trust the notebook. <br />On GitHub, the HTML representation is unable to render, please try loading this page with nbviewer.org.</b></div><div class=\"sk-container\" hidden><div class=\"sk-item\"><div class=\"sk-estimator sk-toggleable\"><input class=\"sk-toggleable__control sk-hidden--visually\" id=\"sk-estimator-id-4\" type=\"checkbox\" checked><label for=\"sk-estimator-id-4\" class=\"sk-toggleable__label sk-toggleable__label-arrow\">SVR</label><div class=\"sk-toggleable__content\"><pre>SVR(C=0.1, coef0=1, gamma=&#x27;auto&#x27;)</pre></div></div></div></div></div>"
      ],
      "text/plain": [
       "SVR(C=0.1, coef0=1, gamma='auto')"
      ]
     },
     "execution_count": 101,
     "metadata": {},
     "output_type": "execute_result"
    }
   ],
   "source": [
    "regressor.fit(X,Y)"
   ]
  },
  {
   "cell_type": "code",
   "execution_count": 102,
   "id": "346d30f5",
   "metadata": {},
   "outputs": [
    {
     "data": {
      "text/plain": [
       "array([-51.82708669, -49.50603593, -50.73543577, -49.49496865,\n",
       "       -49.72828387, -49.83365647, -51.89650477, -52.26756654,\n",
       "       -49.93123446, -49.96222582, -52.16281524, -49.8095475 ,\n",
       "       -49.46118894, -51.72102142, -49.84088205, -52.04540492,\n",
       "       -51.74445222, -50.27693527, -49.46247347, -49.64386966,\n",
       "       -51.79990471, -51.49541254, -51.23261666, -50.61620363,\n",
       "       -49.19365682, -51.82636857, -50.99720038, -50.64951413,\n",
       "       -49.74394608, -49.9214738 , -52.51241837, -49.74542455,\n",
       "       -51.18509353, -52.50508538, -50.26112075, -50.26344067,\n",
       "       -49.83115031, -50.44876682, -49.40231399, -50.05057568,\n",
       "       -51.3076537 , -50.97753791, -49.98754711, -51.2700473 ,\n",
       "       -51.96586576, -51.92335185, -50.08062053, -51.26832232,\n",
       "       -51.97531543, -50.05607352, -50.57486416, -52.10236069,\n",
       "       -52.42832798, -49.23459174, -47.78442916, -52.1534553 ,\n",
       "       -49.99145607, -52.41587816, -51.02629181, -51.9291847 ,\n",
       "       -50.0692406 , -50.16011112, -50.16431547, -49.07775176,\n",
       "       -52.04269447, -50.8014073 , -52.49622784, -48.86010335,\n",
       "       -51.89229634, -49.07241943, -50.57494227, -49.74824305,\n",
       "       -49.83167493, -50.61536736, -51.63322442, -49.3370652 ,\n",
       "       -50.89152508, -49.81395884, -48.98075195, -52.40330529,\n",
       "       -50.17480706, -51.5915258 , -52.41328173, -51.70292779,\n",
       "       -50.0688351 , -52.56310718, -52.61379136, -51.01127518,\n",
       "       -49.13360978, -50.17091671, -50.97328416, -51.3073267 ,\n",
       "       -50.4122522 , -51.80541757, -50.60234689, -48.87214682,\n",
       "       -50.69255412, -48.91819612, -51.36792844, -50.85463997,\n",
       "       -51.63516354, -49.98744208, -52.52311608, -51.22565331,\n",
       "       -52.08938533, -49.92500339, -52.15754817, -51.77272976,\n",
       "       -51.41621599, -49.60275844, -51.63516354, -49.02926815,\n",
       "       -50.67802632, -49.09101726, -51.79176399, -49.83438339,\n",
       "       -51.928338  , -51.96003321, -52.64516568, -51.49770734,\n",
       "       -51.42453604, -51.84427472, -49.28491243, -50.97753791,\n",
       "       -49.25567507, -50.60234689, -52.50036611, -47.77740513,\n",
       "       -49.11501428, -49.08842375, -51.08160434, -50.92883349,\n",
       "       -51.9521979 , -51.65155143, -52.10705049, -50.9307231 ,\n",
       "       -50.83079471, -48.96101328, -50.51261454, -50.30036793,\n",
       "       -48.89684174, -51.11380636, -52.07562784, -51.63568775,\n",
       "       -51.53464421, -50.2993853 , -49.81362243, -49.2114038 ,\n",
       "       -52.7053518 , -50.63737492, -52.04269447, -50.84778431,\n",
       "       -49.60799348, -52.39264406, -48.81278417, -50.065811  ,\n",
       "       -51.89895921, -49.99992995, -48.96044731, -51.11635156,\n",
       "       -50.73631939, -49.84251464, -50.07410893, -49.47319982,\n",
       "       -50.24269281, -51.78528597, -51.38430892, -49.4697005 ,\n",
       "       -50.16241758, -49.53686736, -51.89616175, -49.83208274,\n",
       "       -49.19682413, -48.92027103, -51.30147163, -51.8400222 ,\n",
       "       -50.16431547, -51.43710649, -50.26675404, -49.85763963,\n",
       "       -50.0819553 , -52.39264406, -51.98224728, -51.928338  ,\n",
       "       -52.64516568, -52.15818333, -49.28948686, -52.56310718,\n",
       "       -50.67882142, -51.83859578, -50.14604555, -50.2775784 ,\n",
       "       -48.81278417, -49.4038393 , -51.56175856, -48.89291115,\n",
       "       -51.03393865, -51.87651066, -49.53308023, -50.49070735,\n",
       "       -50.15875021, -50.05308457, -50.60234689, -50.10891098,\n",
       "       -49.15708369, -51.8796998 , -50.22564242, -49.92004064,\n",
       "       -49.82196761, -49.35572296, -52.0313964 , -51.76031957,\n",
       "       -50.4927955 , -52.60316028, -49.15691036, -51.74538721,\n",
       "       -52.10924167, -50.14714642, -49.50921372, -50.73439058,\n",
       "       -48.04860019, -51.59690286, -49.75795279, -50.19899516,\n",
       "       -51.27966032, -49.16813235, -51.72088511, -51.55689356,\n",
       "       -50.28191461, -51.97373503, -49.06245623, -52.23555593,\n",
       "       -52.12424799, -50.12561157, -52.25285084, -52.08321627,\n",
       "       -51.55171863, -51.42733192, -50.8886264 , -49.88253004,\n",
       "       -51.45247639, -51.27744018, -51.2995253 , -49.61052434,\n",
       "       -52.5789496 , -52.71696145, -50.43197541, -51.98918994,\n",
       "       -51.37772516, -50.83079471, -49.74542455, -50.20925462,\n",
       "       -52.14518831, -51.81175766, -50.07516084, -49.79714701,\n",
       "       -51.3073267 , -51.64816195, -51.62909065, -49.13811568,\n",
       "       -50.05812758, -52.64516568, -52.01574599, -51.89666506,\n",
       "       -49.19959948, -51.66028644, -49.07495634, -51.89222812,\n",
       "       -51.201915  , -52.51241837, -50.0292159 , -51.5041798 ,\n",
       "       -52.04967911, -51.20553325, -51.55689356, -51.46061944,\n",
       "       -52.15818333, -50.97753791, -52.10924167, -51.92093348,\n",
       "       -48.425182  , -51.96003321, -50.05618697, -49.51472113,\n",
       "       -50.32349132, -51.21976217, -51.89666506, -51.70592226,\n",
       "       -52.08620161, -51.89229634, -51.94773483, -51.32866674,\n",
       "       -49.82257802, -51.89384421, -51.11821692, -49.14642287,\n",
       "       -52.51613358, -51.63839943, -52.67008118, -50.17982668,\n",
       "       -51.70292779, -51.78252304, -50.75323538, -49.74674279,\n",
       "       -50.17978531, -52.3620959 , -51.44603691, -50.60234689,\n",
       "       -49.1754627 , -49.33188523, -49.21642731, -50.84802619,\n",
       "       -49.69479847, -49.49976812, -52.62233667, -50.27506586,\n",
       "       -49.99992995, -50.14604555, -49.81760152, -50.50715613,\n",
       "       -50.11122829, -51.33122706, -51.97531543, -51.96620656,\n",
       "       -51.96620656, -52.51034507, -49.53686736, -52.25290737,\n",
       "       -52.26260433, -50.4927955 , -50.43197541, -50.11033078,\n",
       "       -50.24209089, -51.67163472, -49.03557453, -51.55962947,\n",
       "       -49.19682413, -52.36128025, -48.86730343, -47.77102658,\n",
       "       -52.49336491, -47.78999817, -49.53409288, -51.93729989,\n",
       "       -51.91545424, -51.51352749, -52.09688973, -49.58740094,\n",
       "       -49.20395056, -50.065811  , -49.31957019, -47.77740513,\n",
       "       -49.09101726, -51.91545424, -52.07577071, -51.90964914,\n",
       "       -49.02446097, -49.08075022, -51.21451343, -49.83393741,\n",
       "       -52.52311608, -51.19894157, -50.1985521 , -50.2993853 ,\n",
       "       -52.60450305, -51.86111214, -52.66893897, -48.86010335,\n",
       "       -51.19973633, -51.71972946, -49.4119127 , -51.5915258 ,\n",
       "       -51.35435692, -51.86909722, -51.59690286, -51.56478499,\n",
       "       -50.24192539, -50.55819805, -49.279943  , -49.44075355,\n",
       "       -52.05171272, -51.16609064, -52.49622784, -50.23861951,\n",
       "       -50.02369976, -51.64816195, -51.13694635, -50.18691049,\n",
       "       -49.60799348, -51.55097502, -50.3373859 , -49.2515342 ,\n",
       "       -51.28335794, -49.74403807, -51.51304542, -51.2995253 ,\n",
       "       -50.48831377, -49.01853044, -51.73079381, -51.67043198,\n",
       "       -49.42163446, -49.34915854, -50.54924197, -50.25813079,\n",
       "       -50.45844805, -50.20896951, -48.91508106, -52.53419069,\n",
       "       -52.18824474, -51.98548926, -51.78946699, -50.44769951,\n",
       "       -50.63384576, -50.07410893, -52.08938533, -51.38033428,\n",
       "       -49.8710302 , -52.05433075, -51.8579912 , -50.22768322,\n",
       "       -51.99037773, -52.27334307, -49.12412813, -51.46385688,\n",
       "       -50.1985521 ])"
      ]
     },
     "execution_count": 102,
     "metadata": {},
     "output_type": "execute_result"
    }
   ],
   "source": [
    "y_reg1=regressor.predict(X_test)\n",
    "y_reg1"
   ]
  },
  {
   "cell_type": "markdown",
   "id": "769f2a41",
   "metadata": {},
   "source": [
    "## Model evaluation after hyperparameter tuning"
   ]
  },
  {
   "cell_type": "code",
   "execution_count": 103,
   "id": "e8d719dc",
   "metadata": {},
   "outputs": [
    {
     "data": {
      "text/plain": [
       "-0.045035302747351125"
      ]
     },
     "execution_count": 103,
     "metadata": {},
     "output_type": "execute_result"
    }
   ],
   "source": [
    "from sklearn.metrics import r2_score, mean_squared_error,mean_absolute_error\n",
    "r2score_svr=r2_score(Y_test,y_reg1)\n",
    "r2score_svr"
   ]
  },
  {
   "cell_type": "code",
   "execution_count": 104,
   "id": "efe0ff64",
   "metadata": {},
   "outputs": [
    {
     "data": {
      "text/plain": [
       "(425, 1)"
      ]
     },
     "execution_count": 104,
     "metadata": {},
     "output_type": "execute_result"
    }
   ],
   "source": [
    "X_test.shape"
   ]
  },
  {
   "cell_type": "code",
   "execution_count": 105,
   "id": "c97ae78d",
   "metadata": {},
   "outputs": [
    {
     "data": {
      "text/plain": [
       "-0.04245862884160756"
      ]
     },
     "execution_count": 105,
     "metadata": {},
     "output_type": "execute_result"
    }
   ],
   "source": [
    "## Calculate adjusted r2 score\n",
    "adjusted_r2_svr=1-(1+0.04)*(425-1)/(425-1-1)\n",
    "adjusted_r2_svr"
   ]
  },
  {
   "cell_type": "code",
   "execution_count": 106,
   "id": "b1c73148",
   "metadata": {},
   "outputs": [
    {
     "name": "stdout",
     "output_type": "stream",
     "text": [
      "4728.757375389869\n",
      "68.76596087738372\n"
     ]
    }
   ],
   "source": [
    "import math\n",
    "print(mean_squared_error(Y_test,y_reg1))\n",
    "print(math.sqrt(mean_squared_error(Y_test,y_reg1)))  #root mean squared error"
   ]
  },
  {
   "cell_type": "code",
   "execution_count": 107,
   "id": "560ac479",
   "metadata": {},
   "outputs": [
    {
     "name": "stdout",
     "output_type": "stream",
     "text": [
      "48.24902081061221\n"
     ]
    }
   ],
   "source": [
    "print(mean_absolute_error(Y_test,y_reg1))"
   ]
  },
  {
   "cell_type": "code",
   "execution_count": 111,
   "id": "06312e27",
   "metadata": {},
   "outputs": [
    {
     "data": {
      "text/html": [
       "<div>\n",
       "<style scoped>\n",
       "    .dataframe tbody tr th:only-of-type {\n",
       "        vertical-align: middle;\n",
       "    }\n",
       "\n",
       "    .dataframe tbody tr th {\n",
       "        vertical-align: top;\n",
       "    }\n",
       "\n",
       "    .dataframe thead th {\n",
       "        text-align: right;\n",
       "    }\n",
       "</style>\n",
       "<table border=\"1\" class=\"dataframe\">\n",
       "  <thead>\n",
       "    <tr style=\"text-align: right;\">\n",
       "      <th></th>\n",
       "      <th>R2 Score</th>\n",
       "    </tr>\n",
       "  </thead>\n",
       "  <tbody>\n",
       "    <tr>\n",
       "      <th>Linear Regression</th>\n",
       "      <td>0.164826</td>\n",
       "    </tr>\n",
       "    <tr>\n",
       "      <th>Random Forest Regressor</th>\n",
       "      <td>0.679923</td>\n",
       "    </tr>\n",
       "    <tr>\n",
       "      <th>KNN Regressor</th>\n",
       "      <td>0.637887</td>\n",
       "    </tr>\n",
       "    <tr>\n",
       "      <th>Decision Tree Regressor</th>\n",
       "      <td>0.654995</td>\n",
       "    </tr>\n",
       "    <tr>\n",
       "      <th>Support Vector Regressor</th>\n",
       "      <td>0.601248</td>\n",
       "    </tr>\n",
       "  </tbody>\n",
       "</table>\n",
       "</div>"
      ],
      "text/plain": [
       "                          R2 Score\n",
       "Linear Regression         0.164826\n",
       "Random Forest Regressor   0.679923\n",
       "KNN Regressor             0.637887\n",
       "Decision Tree Regressor   0.654995\n",
       "Support Vector Regressor  0.601248"
      ]
     },
     "execution_count": 111,
     "metadata": {},
     "output_type": "execute_result"
    }
   ],
   "source": [
    "r2_score=[r2score,r2score_RF,r2score_KNN,r2score_DT,r2score_SVR]\n",
    "col={'R2 Score':r2_score}\n",
    "models=['Linear Regression','Random Forest Regressor','KNN Regressor','Decision Tree Regressor','Support Vector Regressor']\n",
    "data=pd.DataFrame(data=col,index= models)\n",
    "data"
   ]
  },
  {
   "cell_type": "markdown",
   "id": "1b902828",
   "metadata": {},
   "source": [
    "* Conclusion:\n",
    "* In all algorithms Random Forest Regressor is working good.\n",
    "* After Random Forest Regressor Decision Tree Regressor is working good."
   ]
  }
 ],
 "metadata": {
  "kernelspec": {
   "display_name": "Python 3 (ipykernel)",
   "language": "python",
   "name": "python3"
  },
  "language_info": {
   "codemirror_mode": {
    "name": "ipython",
    "version": 3
   },
   "file_extension": ".py",
   "mimetype": "text/x-python",
   "name": "python",
   "nbconvert_exporter": "python",
   "pygments_lexer": "ipython3",
   "version": "3.9.7"
  }
 },
 "nbformat": 4,
 "nbformat_minor": 5
}
